import pandas as pd

dept_agents_df = pd.read_csv("../data/raw/agent_details.csv")

display(dept_agents_df.head())
display(dept_agents_df.shape)
display(dept_agents_df.dtypes)


import pandas as pd

call_abandonment_df = pd.read_csv("../data/raw/call_abandonment.csv")

display(call_abandonment_df.head())
display(call_abandonment_df.shape)
display(call_abandonment_df.dtypes)


import pandas as pd

call_records_df = pd.read_csv("../data/raw/call_records.csv")

display(call_records_df.head())
display(call_records_df.shape)
display(call_records_df.dtypes)


import pandas as pd

customer_satisfaction_df = pd.read_csv("../data/raw/customer_satisfaction.csv")

display(customer_satisfaction_df.head())
display(customer_satisfaction_df.shape)
display(customer_satisfaction_df.dtypes)


import pandas as pd

escalated_issues_df = pd.read_csv("../data/raw/escalated_issues.csv")

display(escalated_issues_df.head())
display(escalated_issues_df.shape)
display(escalated_issues_df.dtypes)



