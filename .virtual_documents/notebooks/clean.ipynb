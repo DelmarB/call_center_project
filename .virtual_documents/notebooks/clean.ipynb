





import pandas as pd

dept_agents_df = pd.read_csv("../data/raw/agent_details.csv")
dept_escalations_df = pd.read_csv("../data/raw/escalated_issues.csv")

display(dept_agents_df.head())
display(dept_escalations_df.head())


import pandas as pd

# Load the two CSV files
dept_agents_df = pd.read_csv("../data/raw/agent_details.csv")
dept_escalations_df = pd.read_csv("../data/raw/escalated_issues.csv")

# Clean department names
all_depts_series = pd.concat([
    dept_agents_df['Department'].astype(str).str.strip(),
    dept_escalations_df['Escalated Department'].astype(str).str.strip()
])

# Drop duplicates
all_depts_df = all_depts_series.drop_duplicates().reset_index(drop=True).to_frame(name='department_id')

# Add dummy column--FOR BETTER IMPORT OF ONE COLUMN TABLE
all_depts_df['dummy'] = ''

display(all_depts_df.head())
display(all_depts_df.dtypes)
display(all_depts_df.shape[0])

all_depts_df.to_csv("../data/clean/all_depts.csv", index=False)






import pandas as pd

calls_df = pd.read_csv("../data/raw/call_records.csv")
abandonment_df = pd.read_csv("../data/raw/call_abandonment.csv")
escalations_df = pd.read_csv("../data/raw/escalated_issues.csv")

# get unique customer id values from all csv files
all_customer_ids = pd.concat([
    calls_df['Customer ID'].astype(str).str.strip(),
    abandonment_df['Customer ID'].astype(str).str.strip(),
    escalations_df['Customer ID'].astype(str).str.strip()
])

# Create a DataFrame with unique customer_id values
customers_df = all_customer_ids.drop_duplicates().reset_index(drop=True).to_frame(name='customer_id')

# Add dummy column--FOR BETTER IMPORT OF ONE COLUMN TABLE
customers_df['dummy'] = ''

display(customers_df.head())
display(customers_df.dtypes)
display(customers_df.shape[0])


# Clean column names
customers_df.columns = customers_df.columns.str.lower().str.replace(' ', '_')

# Preview the updated column names
print(customers_df.columns)

#display(customers_df.head())
#display(customers_df.dtypes)


agent_df.to_csv('../data/clean/customers.csv', index=False)





import pandas as pd

agent_df = pd.read_csv("../data/raw/agent_details.csv")
agent_df.head()
#agent_df.shape


# Split 'Name' into 'First Name' and 'Last Name'
agent_df[['First Name', 'Last Name']] = agent_df['Name'].str.split(' ', n=1, expand=True)

# Drop the original 'Name' column
agent_df.drop(columns=['Name'], inplace=True)

# Reorder columns
cols = agent_df.columns.tolist()
idx = cols.index('Agent ID')
new_order = cols[:idx+1] + ['First Name', 'Last Name'] + [col for col in cols if col not in ['Agent ID', 'First Name', 'Last Name']]
agent_df = agent_df[new_order]

display(agent_df.head())


# Clean column names
agent_df.columns = agent_df.columns.str.lower().str.replace(' ', '_')

print(agent_df.columns)



agent_df.info()


import pandas as pd

print(agent_df.isna().sum())



# Abbreviation of agent_types
agent_df['agent_type'] = agent_df['agent_type'].map({
    'Full-time': 'FT',
    'Part-time': 'PT',
    'Contract': 'C'
})

print(agent_df['agent_type'].unique())



# Phone numbers are from USA--> remove country prefix
import re

def clean_phone_number(number):
    # Remove +1 or 001 prefix
    number = re.sub(r'^(\+1|001)[-\s\.]?', '', number)
    # Remove anything after 'x' or 'X' (extension)
    number = re.sub(r'[xX].*$', '', number)
    # Replace symbols with spaces
    number = re.sub(r'[()\.\-]', ' ', number)
    number = re.sub(r'\s+', ' ', number).strip()
    return number

agent_df['phone_number'] = agent_df['phone_number'].apply(clean_phone_number)

display(agent_df[['phone_number']].head(20))
display(agent_df[['phone_number']].tail(20))


import re

# Function to add spaces in the phone number
def format_phone_number(phone):
    # Check if the phone number is a continuous string without spaces
    if re.match(r'^\d{10}$', phone):  # checks if it's a 10 digit number
        # Add a space after the 3rd and 6th digits
        return f"{phone[:3]} {phone[3:6]} {phone[6:]}"
    else:
        # If there are spaces already, just return the original number
        return phone

# Apply the function to the phone number column
agent_df['phone_number'] = agent_df['phone_number'].apply(format_phone_number)

# Add dummy column--FOR BETTER IMPORT OF ONE COLUMN TABLE
agent_df['dummy'] = ''

# Preview the result
display(agent_df.head(20))
display(agent_df.tail(20))


agent_df.to_csv('../data/clean/agents.csv', index=False)





#TEST PROOF AGENTS IN escalated_issues AND agent_details.csv
import pandas as pd
agent_df = pd.read_csv("../data/raw/agent_details.csv")
escalations_df = pd.read_csv("../data/raw/escalated_issues.csv")

#display(agent_df.head())
#display(escalations_df.head())

missing_agents = escalations_df[~escalations_df['Agent ID'].isin(agent_df['Agent ID'])]
missing_ids = missing_agents['Agent ID'].unique()

print(f"Missing Agent IDs in agent_df: {missing_ids}")
print(f"Total missing: {len(missing_ids)}")




print("Total agents in agent_df:", agent_df['Agent ID'].nunique())
print("Total escalations:", escalations_df.shape[0])
print("Unique agent IDs in escalations_df:", escalations_df['Agent ID'].nunique())






import pandas as pd
# Read the CSV file
call_records_df = pd.read_csv("../data/raw/call_records.csv")
display(call_records_df.shape)
display(call_records_df.head())


# Clean column names
call_records_df.columns = call_records_df.columns.str.lower().str.replace(' ', '_')

print(call_records_df.columns)

display(call_records_df.head())
display(call_records_df.dtypes)


import pandas as pd
call_records_df['issue'].unique()

display(call_records_df.dtypes)


display(call_records_df.head())


call_records_df.to_csv('../data/clean/calls.csv', index=False)





import pandas as pd
# Read the CSV file
escalated_issues_df = pd.read_csv("../data/raw/escalated_issues.csv")
display(escalated_issues_df.head())
#display(escalated_issues_df.columns)
display(escalated_issues_df.dtypes)
escalated_issues_df.shape


# Clean column names: lowercase and replace spaces with underscores
escalated_issues_df.columns = escalated_issues_df.columns.str.lower().str.replace(' ', '_')

# Preview the updated column names
print(escalated_issues_df.columns)

display(escalated_issues_df.head())
display(escalated_issues_df.dtypes)


for col in escalated_issues_df.columns:
    print(f"Unique values in '{col}':")
    display(escalated_issues_df[col].unique())
    print("\n" + "-"*50 + "\n")



# Count how many times each customer_id appears
customer_call_counts = call_records_df['customer_id'].value_counts()

# Filter to show only customers with more than 1 call
repeat_customers = customer_call_counts[customer_call_counts > 1]

# Display the result
print(repeat_customers)






escalated_issues_df.to_csv('data/clean/escalated_issues_df_clean.csv', index=False)





import pandas as pd
customer_satisfaction_df = pd.read_csv("../data/raw/customer_satisfaction.csv")

# Show complete comments column
pd.set_option('display.max_colwidth', None)

# Now, when you display the DataFrame, you'll see the full comments

display(customer_satisfaction_df.head())
#display(customer_satisfaction_df.columns)
display(customer_satisfaction_df.dtypes)
display(customer_satisfaction_df.shape)


# Clean column names
customer_satisfaction_df.columns = customer_satisfaction_df.columns.str.lower().str.replace(' ', '_')

print(customer_satisfaction_df.columns)
display(customer_satisfaction_df.head())
display(customer_satisfaction_df.dtypes)


customer_satisfaction_df['survey_date'] = pd.to_datetime(customer_satisfaction_df['survey_date'])
display(customer_satisfaction_df.head())
display(customer_satisfaction_df.dtypes)


customer_satisfaction_df.to_csv('../data/clean/csat.csv', index=False)





import pandas as pd

call_abandonment_df = pd.read_csv("../data/raw/call_abandonment.csv")

#display(call_abandonment_df.head())
#display(call_abandonment_df.columns)
#display(call_abandonment_df.dtypes)
call_abandonment_df.shape


# Clean column names
call_abandonment_df.columns = call_abandonment_df.columns.str.lower().str.replace(' ', '_')

print(call_abandonment_df.columns)

display(call_abandonment_df.head(20))
display(call_abandonment_df.dtypes)


print(call_abandonment_df['call_duration_before_abandonment_(mins)'].unique())


# Count the NaNs in the 'call_duration_before_abandonment_(mins)' column
nan_count = call_abandonment_df['call_duration_before_abandonment_(mins)'].isna().sum()

print(f"Number of NaNs in 'call_duration_before_abandonment_(mins)': {nan_count}")



call_abandonment_df.shape


import numpy as np

# For rows where abandoned = False, set abandonment_reason and call_duration_before_abandonment_(mins) to NaN
call_abandonment_df.loc[call_abandonment_df['abandoned'] == False, 'abandonment_reason'] = np.nan
call_abandonment_df.loc[call_abandonment_df['abandoned'] == False, 'call_duration_before_abandonment_(mins)'] = np.nan

# For rows where abandoned = True and call_duration_before_abandonment_(mins) is NaN, set call_duration_before_abandonment_(mins) to NaN
call_abandonment_df.loc[(call_abandonment_df['abandoned'] == True) & (call_abandonment_df['call_duration_before_abandonment_(mins)'].isna()), 'call_duration_before_abandonment_(mins)'] = np.nan

# Check the dataframe after the changes
display(call_abandonment_df.head())



# Compute the mean and median of the 'call_duration_before_abandonment_(mins)' column
mean_value = call_abandonment_df['call_duration_before_abandonment_(mins)'].mean()
median_value = call_abandonment_df['call_duration_before_abandonment_(mins)'].median()

# Print the results
print("Mean value:", mean_value)
print("Median value:", median_value)



unique_abandonment_reasons_abandoned = call_abandonment_df[call_abandonment_df['abandoned'] == True]['abandonment_reason'].unique()
display(unique_abandonment_reasons_abandoned)






call_abandonment_df.to_csv('../data/clean/call_abandonment.csv', index=False)





import pandas as pd

escalations_df = pd.read_csv("../data/raw/escalated_issues.csv")
display(escalations_df.head())
display(escalations_df.dtypes)


# Clean column names: lowercase and replace spaces with underscores
escalations_df.columns = escalations_df.columns.str.lower().str.replace(' ', '_')

# Export the cleaned DataFrame to CSV, without the index
escalations_df.to_csv('../data/clean/escalations.csv', index=False)

# Verify the first few rows of your export
display(escalations_df.head())
display(escalations_df.columns)




