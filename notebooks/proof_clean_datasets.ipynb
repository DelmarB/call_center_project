{
 "cells": [
  {
   "cell_type": "markdown",
   "id": "2c2ced85-bbed-4438-bafb-557ddecc5cd5",
   "metadata": {},
   "source": [
    "# departments"
   ]
  },
  {
   "cell_type": "code",
   "execution_count": 4,
   "id": "c75c3763-28da-4446-947a-fc22a27c65d0",
   "metadata": {},
   "outputs": [
    {
     "data": {
      "text/html": [
       "<div>\n",
       "<style scoped>\n",
       "    .dataframe tbody tr th:only-of-type {\n",
       "        vertical-align: middle;\n",
       "    }\n",
       "\n",
       "    .dataframe tbody tr th {\n",
       "        vertical-align: top;\n",
       "    }\n",
       "\n",
       "    .dataframe thead th {\n",
       "        text-align: right;\n",
       "    }\n",
       "</style>\n",
       "<table border=\"1\" class=\"dataframe\">\n",
       "  <thead>\n",
       "    <tr style=\"text-align: right;\">\n",
       "      <th></th>\n",
       "      <th>department_id</th>\n",
       "      <th>dummy</th>\n",
       "    </tr>\n",
       "  </thead>\n",
       "  <tbody>\n",
       "    <tr>\n",
       "      <th>0</th>\n",
       "      <td>Sales</td>\n",
       "      <td>NaN</td>\n",
       "    </tr>\n",
       "    <tr>\n",
       "      <th>1</th>\n",
       "      <td>Technical</td>\n",
       "      <td>NaN</td>\n",
       "    </tr>\n",
       "    <tr>\n",
       "      <th>2</th>\n",
       "      <td>Support</td>\n",
       "      <td>NaN</td>\n",
       "    </tr>\n",
       "    <tr>\n",
       "      <th>3</th>\n",
       "      <td>Specialist</td>\n",
       "      <td>NaN</td>\n",
       "    </tr>\n",
       "    <tr>\n",
       "      <th>4</th>\n",
       "      <td>Management</td>\n",
       "      <td>NaN</td>\n",
       "    </tr>\n",
       "  </tbody>\n",
       "</table>\n",
       "</div>"
      ],
      "text/plain": [
       "  department_id  dummy\n",
       "0         Sales    NaN\n",
       "1     Technical    NaN\n",
       "2       Support    NaN\n",
       "3    Specialist    NaN\n",
       "4    Management    NaN"
      ]
     },
     "metadata": {},
     "output_type": "display_data"
    },
    {
     "data": {
      "text/plain": [
       "(5, 2)"
      ]
     },
     "metadata": {},
     "output_type": "display_data"
    },
    {
     "data": {
      "text/plain": [
       "department_id     object\n",
       "dummy            float64\n",
       "dtype: object"
      ]
     },
     "metadata": {},
     "output_type": "display_data"
    }
   ],
   "source": [
    "import pandas as pd\n",
    "\n",
    "departments_df = pd.read_csv(\"../data/clean/all_depts.csv\")\n",
    "\n",
    "display(departments_df.head())\n",
    "display(departments_df.shape)\n",
    "display(departments_df.dtypes)\n",
    "\n",
    "# dummy column adds comma to the one original column to import better."
   ]
  },
  {
   "cell_type": "markdown",
   "id": "e799af68-c107-4f49-83cd-d35eb383f4f1",
   "metadata": {},
   "source": [
    "# customers"
   ]
  },
  {
   "cell_type": "code",
   "execution_count": 3,
   "id": "1af90a0f-2084-49f0-8a9e-1e4e869b5bec",
   "metadata": {},
   "outputs": [
    {
     "data": {
      "text/html": [
       "<div>\n",
       "<style scoped>\n",
       "    .dataframe tbody tr th:only-of-type {\n",
       "        vertical-align: middle;\n",
       "    }\n",
       "\n",
       "    .dataframe tbody tr th {\n",
       "        vertical-align: top;\n",
       "    }\n",
       "\n",
       "    .dataframe thead th {\n",
       "        text-align: right;\n",
       "    }\n",
       "</style>\n",
       "<table border=\"1\" class=\"dataframe\">\n",
       "  <thead>\n",
       "    <tr style=\"text-align: right;\">\n",
       "      <th></th>\n",
       "      <th>customer_id</th>\n",
       "      <th>dummy</th>\n",
       "    </tr>\n",
       "  </thead>\n",
       "  <tbody>\n",
       "    <tr>\n",
       "      <th>0</th>\n",
       "      <td>b584550c-641c-44d0-b308-25381125d9b9</td>\n",
       "      <td>NaN</td>\n",
       "    </tr>\n",
       "    <tr>\n",
       "      <th>1</th>\n",
       "      <td>1be4ea93-a4b3-46fd-9f9f-7c48b1b196d2</td>\n",
       "      <td>NaN</td>\n",
       "    </tr>\n",
       "    <tr>\n",
       "      <th>2</th>\n",
       "      <td>2320fd15-7b8d-4f1b-844e-d7716b6e8970</td>\n",
       "      <td>NaN</td>\n",
       "    </tr>\n",
       "    <tr>\n",
       "      <th>3</th>\n",
       "      <td>53fd6b84-3d16-4282-a4dc-2981250ea2de</td>\n",
       "      <td>NaN</td>\n",
       "    </tr>\n",
       "    <tr>\n",
       "      <th>4</th>\n",
       "      <td>a2302e13-7a77-4091-81e5-701f959100ac</td>\n",
       "      <td>NaN</td>\n",
       "    </tr>\n",
       "  </tbody>\n",
       "</table>\n",
       "</div>"
      ],
      "text/plain": [
       "                            customer_id  dummy\n",
       "0  b584550c-641c-44d0-b308-25381125d9b9    NaN\n",
       "1  1be4ea93-a4b3-46fd-9f9f-7c48b1b196d2    NaN\n",
       "2  2320fd15-7b8d-4f1b-844e-d7716b6e8970    NaN\n",
       "3  53fd6b84-3d16-4282-a4dc-2981250ea2de    NaN\n",
       "4  a2302e13-7a77-4091-81e5-701f959100ac    NaN"
      ]
     },
     "metadata": {},
     "output_type": "display_data"
    },
    {
     "data": {
      "text/plain": [
       "(60000, 2)"
      ]
     },
     "metadata": {},
     "output_type": "display_data"
    },
    {
     "data": {
      "text/plain": [
       "customer_id     object\n",
       "dummy          float64\n",
       "dtype: object"
      ]
     },
     "metadata": {},
     "output_type": "display_data"
    }
   ],
   "source": [
    "import pandas as pd\n",
    "\n",
    "customers = pd.read_csv(\"../data/clean/customers_for_import.csv\")\n",
    "\n",
    "display(customers.head())\n",
    "display(customers.shape)\n",
    "display(customers.dtypes)\n",
    "\n",
    "# dummy column adds comma to the one original column to import better."
   ]
  },
  {
   "cell_type": "markdown",
   "id": "582b2a9a-0d96-4798-8a2c-6389c6d75f35",
   "metadata": {},
   "source": [
    "# agents"
   ]
  },
  {
   "cell_type": "code",
   "execution_count": 15,
   "id": "eb1a2799-5352-489c-80ad-8e6ce7836751",
   "metadata": {},
   "outputs": [
    {
     "data": {
      "text/html": [
       "<div>\n",
       "<style scoped>\n",
       "    .dataframe tbody tr th:only-of-type {\n",
       "        vertical-align: middle;\n",
       "    }\n",
       "\n",
       "    .dataframe tbody tr th {\n",
       "        vertical-align: top;\n",
       "    }\n",
       "\n",
       "    .dataframe thead th {\n",
       "        text-align: right;\n",
       "    }\n",
       "</style>\n",
       "<table border=\"1\" class=\"dataframe\">\n",
       "  <thead>\n",
       "    <tr style=\"text-align: right;\">\n",
       "      <th></th>\n",
       "      <th>agent_id</th>\n",
       "      <th>first_name</th>\n",
       "      <th>last_name</th>\n",
       "      <th>agent_type</th>\n",
       "      <th>email</th>\n",
       "      <th>phone_number</th>\n",
       "      <th>department</th>\n",
       "      <th>dummy</th>\n",
       "    </tr>\n",
       "  </thead>\n",
       "  <tbody>\n",
       "    <tr>\n",
       "      <th>0</th>\n",
       "      <td>e4e90091-6c3c-44e8-89c1-c2a6ab851b15</td>\n",
       "      <td>Christine</td>\n",
       "      <td>Arnold</td>\n",
       "      <td>FT</td>\n",
       "      <td>emma68@example.net</td>\n",
       "      <td>847 679 2854</td>\n",
       "      <td>Sales</td>\n",
       "      <td>NaN</td>\n",
       "    </tr>\n",
       "    <tr>\n",
       "      <th>1</th>\n",
       "      <td>3843d1ba-0fe8-43c4-95db-85431f587140</td>\n",
       "      <td>Sarah</td>\n",
       "      <td>Chase</td>\n",
       "      <td>FT</td>\n",
       "      <td>angelaanderson@example.com</td>\n",
       "      <td>500 667 3317</td>\n",
       "      <td>Technical</td>\n",
       "      <td>NaN</td>\n",
       "    </tr>\n",
       "    <tr>\n",
       "      <th>2</th>\n",
       "      <td>c72bc976-4e21-42d3-a344-df2d2176b1dc</td>\n",
       "      <td>Damon</td>\n",
       "      <td>Smith</td>\n",
       "      <td>FT</td>\n",
       "      <td>hbrady@example.org</td>\n",
       "      <td>854 256 7120</td>\n",
       "      <td>Sales</td>\n",
       "      <td>NaN</td>\n",
       "    </tr>\n",
       "    <tr>\n",
       "      <th>3</th>\n",
       "      <td>e6cacfb3-112a-42fa-97d2-29ddc67b9759</td>\n",
       "      <td>Mary</td>\n",
       "      <td>Simon</td>\n",
       "      <td>C</td>\n",
       "      <td>qparker@example.net</td>\n",
       "      <td>254 469 9283</td>\n",
       "      <td>Support</td>\n",
       "      <td>NaN</td>\n",
       "    </tr>\n",
       "    <tr>\n",
       "      <th>4</th>\n",
       "      <td>2acb7771-9ea7-4d53-9f8d-d3b24863b4cb</td>\n",
       "      <td>James</td>\n",
       "      <td>Moore</td>\n",
       "      <td>PT</td>\n",
       "      <td>silvadenise@example.net</td>\n",
       "      <td>466 446 1426</td>\n",
       "      <td>Sales</td>\n",
       "      <td>NaN</td>\n",
       "    </tr>\n",
       "  </tbody>\n",
       "</table>\n",
       "</div>"
      ],
      "text/plain": [
       "                               agent_id first_name last_name agent_type  \\\n",
       "0  e4e90091-6c3c-44e8-89c1-c2a6ab851b15  Christine    Arnold         FT   \n",
       "1  3843d1ba-0fe8-43c4-95db-85431f587140      Sarah     Chase         FT   \n",
       "2  c72bc976-4e21-42d3-a344-df2d2176b1dc      Damon     Smith         FT   \n",
       "3  e6cacfb3-112a-42fa-97d2-29ddc67b9759       Mary     Simon          C   \n",
       "4  2acb7771-9ea7-4d53-9f8d-d3b24863b4cb      James     Moore         PT   \n",
       "\n",
       "                        email  phone_number department  dummy  \n",
       "0          emma68@example.net  847 679 2854      Sales    NaN  \n",
       "1  angelaanderson@example.com  500 667 3317  Technical    NaN  \n",
       "2          hbrady@example.org  854 256 7120      Sales    NaN  \n",
       "3         qparker@example.net  254 469 9283    Support    NaN  \n",
       "4     silvadenise@example.net  466 446 1426      Sales    NaN  "
      ]
     },
     "metadata": {},
     "output_type": "display_data"
    },
    {
     "data": {
      "text/plain": [
       "(200, 8)"
      ]
     },
     "metadata": {},
     "output_type": "display_data"
    },
    {
     "data": {
      "text/plain": [
       "agent_id         object\n",
       "first_name       object\n",
       "last_name        object\n",
       "agent_type       object\n",
       "email            object\n",
       "phone_number     object\n",
       "department       object\n",
       "dummy           float64\n",
       "dtype: object"
      ]
     },
     "metadata": {},
     "output_type": "display_data"
    }
   ],
   "source": [
    "import pandas as pd\n",
    "\n",
    "agents = pd.read_csv(\"../data/clean/agents.csv\")\n",
    "\n",
    "display(agents.head())\n",
    "display(agents.shape)\n",
    "display(agents.dtypes)"
   ]
  },
  {
   "cell_type": "markdown",
   "id": "50f5d100-a544-4adc-ad87-ebde8b60ffd8",
   "metadata": {},
   "source": [
    "# calls"
   ]
  },
  {
   "cell_type": "code",
   "execution_count": 6,
   "id": "b5c9cc52-8328-40ad-8480-775038a249e7",
   "metadata": {},
   "outputs": [
    {
     "data": {
      "text/html": [
       "<div>\n",
       "<style scoped>\n",
       "    .dataframe tbody tr th:only-of-type {\n",
       "        vertical-align: middle;\n",
       "    }\n",
       "\n",
       "    .dataframe tbody tr th {\n",
       "        vertical-align: top;\n",
       "    }\n",
       "\n",
       "    .dataframe thead th {\n",
       "        text-align: right;\n",
       "    }\n",
       "</style>\n",
       "<table border=\"1\" class=\"dataframe\">\n",
       "  <thead>\n",
       "    <tr style=\"text-align: right;\">\n",
       "      <th></th>\n",
       "      <th>call_id</th>\n",
       "      <th>customer_id</th>\n",
       "      <th>agent_id</th>\n",
       "      <th>call_duration</th>\n",
       "      <th>call_type</th>\n",
       "      <th>issue</th>\n",
       "    </tr>\n",
       "  </thead>\n",
       "  <tbody>\n",
       "    <tr>\n",
       "      <th>0</th>\n",
       "      <td>accc2764-24d5-47fa-8601-23ac1d7d89f0</td>\n",
       "      <td>b584550c-641c-44d0-b308-25381125d9b9</td>\n",
       "      <td>8d6d9486-30e2-40bc-8939-cdee700eebf1</td>\n",
       "      <td>50</td>\n",
       "      <td>Inbound</td>\n",
       "      <td>Complaint</td>\n",
       "    </tr>\n",
       "    <tr>\n",
       "      <th>1</th>\n",
       "      <td>befb90c0-aac5-4c6c-89c4-14f57d2ac30b</td>\n",
       "      <td>1be4ea93-a4b3-46fd-9f9f-7c48b1b196d2</td>\n",
       "      <td>b1f7f5f1-f9b1-4f1b-8ad3-ad6b623c40c0</td>\n",
       "      <td>67</td>\n",
       "      <td>Outbound</td>\n",
       "      <td>Complaint</td>\n",
       "    </tr>\n",
       "    <tr>\n",
       "      <th>2</th>\n",
       "      <td>b14d22ea-c0dd-40b3-8d18-9c82f3770b40</td>\n",
       "      <td>2320fd15-7b8d-4f1b-844e-d7716b6e8970</td>\n",
       "      <td>031914a4-aeb6-43f5-972d-9c718e2369f6</td>\n",
       "      <td>108</td>\n",
       "      <td>Outbound</td>\n",
       "      <td>Complaint</td>\n",
       "    </tr>\n",
       "    <tr>\n",
       "      <th>3</th>\n",
       "      <td>174f0491-3428-4d6e-b45a-7687c2811343</td>\n",
       "      <td>53fd6b84-3d16-4282-a4dc-2981250ea2de</td>\n",
       "      <td>ab4e938f-0f23-4966-b6f6-9f7286cacd45</td>\n",
       "      <td>83</td>\n",
       "      <td>Inbound</td>\n",
       "      <td>Technical Support</td>\n",
       "    </tr>\n",
       "    <tr>\n",
       "      <th>4</th>\n",
       "      <td>bcf0583e-a8e4-4ca6-8a69-b682d69ddd76</td>\n",
       "      <td>a2302e13-7a77-4091-81e5-701f959100ac</td>\n",
       "      <td>a47025c9-13bb-4e82-a5f9-5344b0e51c40</td>\n",
       "      <td>29</td>\n",
       "      <td>Inbound</td>\n",
       "      <td>Technical Support</td>\n",
       "    </tr>\n",
       "  </tbody>\n",
       "</table>\n",
       "</div>"
      ],
      "text/plain": [
       "                                call_id                           customer_id  \\\n",
       "0  accc2764-24d5-47fa-8601-23ac1d7d89f0  b584550c-641c-44d0-b308-25381125d9b9   \n",
       "1  befb90c0-aac5-4c6c-89c4-14f57d2ac30b  1be4ea93-a4b3-46fd-9f9f-7c48b1b196d2   \n",
       "2  b14d22ea-c0dd-40b3-8d18-9c82f3770b40  2320fd15-7b8d-4f1b-844e-d7716b6e8970   \n",
       "3  174f0491-3428-4d6e-b45a-7687c2811343  53fd6b84-3d16-4282-a4dc-2981250ea2de   \n",
       "4  bcf0583e-a8e4-4ca6-8a69-b682d69ddd76  a2302e13-7a77-4091-81e5-701f959100ac   \n",
       "\n",
       "                               agent_id  call_duration call_type  \\\n",
       "0  8d6d9486-30e2-40bc-8939-cdee700eebf1             50   Inbound   \n",
       "1  b1f7f5f1-f9b1-4f1b-8ad3-ad6b623c40c0             67  Outbound   \n",
       "2  031914a4-aeb6-43f5-972d-9c718e2369f6            108  Outbound   \n",
       "3  ab4e938f-0f23-4966-b6f6-9f7286cacd45             83   Inbound   \n",
       "4  a47025c9-13bb-4e82-a5f9-5344b0e51c40             29   Inbound   \n",
       "\n",
       "               issue  \n",
       "0          Complaint  \n",
       "1          Complaint  \n",
       "2          Complaint  \n",
       "3  Technical Support  \n",
       "4  Technical Support  "
      ]
     },
     "metadata": {},
     "output_type": "display_data"
    },
    {
     "data": {
      "text/plain": [
       "(50000, 6)"
      ]
     },
     "metadata": {},
     "output_type": "display_data"
    },
    {
     "data": {
      "text/plain": [
       "call_id          object\n",
       "customer_id      object\n",
       "agent_id         object\n",
       "call_duration     int64\n",
       "call_type        object\n",
       "issue            object\n",
       "dtype: object"
      ]
     },
     "metadata": {},
     "output_type": "display_data"
    }
   ],
   "source": [
    "import pandas as pd\n",
    "\n",
    "calls = pd.read_csv(\"../data/clean/calls.csv\")\n",
    "\n",
    "display(calls.head())\n",
    "display(calls.shape)\n",
    "display(calls.dtypes)"
   ]
  },
  {
   "cell_type": "code",
   "execution_count": 20,
   "id": "4aeae6b8-50be-44cc-b9f9-38a9b3c86748",
   "metadata": {},
   "outputs": [
    {
     "name": "stdout",
     "output_type": "stream",
     "text": [
      "Invalid agent_ids in calls DataFrame:\n",
      "0        8d6d9486-30e2-40bc-8939-cdee700eebf1\n",
      "1        b1f7f5f1-f9b1-4f1b-8ad3-ad6b623c40c0\n",
      "2        031914a4-aeb6-43f5-972d-9c718e2369f6\n",
      "3        ab4e938f-0f23-4966-b6f6-9f7286cacd45\n",
      "4        a47025c9-13bb-4e82-a5f9-5344b0e51c40\n",
      "                         ...                 \n",
      "49995    05a106e6-01a7-4d57-8182-590e89452858\n",
      "49996    59d8cc71-5d1f-4bad-87ab-b5f7464ae1a2\n",
      "49997    5d8ba4d7-f5d7-45ce-bb04-0cb2ed5464d6\n",
      "49998    b8eded43-c5a3-4a14-a8de-4af5b1b1accd\n",
      "49999    698a0031-266d-4662-8b2b-168a91519e14\n",
      "Name: agent_id, Length: 50000, dtype: object\n",
      "                                call_id                           customer_id  \\\n",
      "0  accc2764-24d5-47fa-8601-23ac1d7d89f0  b584550c-641c-44d0-b308-25381125d9b9   \n",
      "1  befb90c0-aac5-4c6c-89c4-14f57d2ac30b  1be4ea93-a4b3-46fd-9f9f-7c48b1b196d2   \n",
      "2  b14d22ea-c0dd-40b3-8d18-9c82f3770b40  2320fd15-7b8d-4f1b-844e-d7716b6e8970   \n",
      "3  174f0491-3428-4d6e-b45a-7687c2811343  53fd6b84-3d16-4282-a4dc-2981250ea2de   \n",
      "4  bcf0583e-a8e4-4ca6-8a69-b682d69ddd76  a2302e13-7a77-4091-81e5-701f959100ac   \n",
      "\n",
      "                               agent_id  call_duration call_type  \\\n",
      "0  966d5b90-ed4b-47a1-b6b9-9bad9162d6fe             50   Inbound   \n",
      "1  1be01460-850c-4608-9a30-49158364609e             67  Outbound   \n",
      "2  8acc0156-1faa-469b-ad22-98f6e92939b0            108  Outbound   \n",
      "3  b88dc33d-e1f8-4af4-8c9b-21a2d0eb3d06             83   Inbound   \n",
      "4  a897e3ca-28e4-4866-ac84-d753b0e14f6f             29   Inbound   \n",
      "\n",
      "               issue  \n",
      "0          Complaint  \n",
      "1          Complaint  \n",
      "2          Complaint  \n",
      "3  Technical Support  \n",
      "4  Technical Support  \n"
     ]
    }
   ],
   "source": [
    "import pandas as pd\n",
    "import numpy as np\n",
    "\n",
    "# Load agents and calls data\n",
    "agents = pd.read_csv(\"../data/clean/agents.csv\")\n",
    "calls = pd.read_csv(\"../data/clean/calls.csv\")\n",
    "\n",
    "# Step 1: Get the valid agent_id's from the agents DataFrame\n",
    "valid_agent_ids = agents['agent_id'].tolist()\n",
    "\n",
    "# Step 2: Identify invalid agent_ids in the calls DataFrame (those not in agents)\n",
    "invalid_agent_ids = calls[~calls['agent_id'].isin(valid_agent_ids)]['agent_id'].drop_duplicates()\n",
    "\n",
    "# Print out invalid agent_ids to inspect if necessary\n",
    "print(\"Invalid agent_ids in calls DataFrame:\")\n",
    "print(invalid_agent_ids)\n",
    "\n",
    "# Step 3: Replace invalid agent_ids with a valid agent_id from the agents table\n",
    "# We replace invalid agent_ids randomly or you can decide how to replace (e.g., using a default valid id)\n",
    "calls['agent_id'] = np.where(\n",
    "    calls['agent_id'].isin(valid_agent_ids),\n",
    "    calls['agent_id'],  # keep valid ids as is\n",
    "    np.random.choice(valid_agent_ids, size=len(calls))  # replace invalid ids\n",
    ")\n",
    "\n",
    "# Step 4: Verify the update\n",
    "print(calls.head())\n",
    "\n",
    "# Optionally save the fixed 'calls' DataFrame back to a CSV if needed\n",
    "calls.to_csv(\"../data/clean/calls_fixed.csv\", index=False)\n"
   ]
  },
  {
   "cell_type": "code",
   "execution_count": 18,
   "id": "ee311d8b-8e4c-4822-8530-1c667e9335b6",
   "metadata": {},
   "outputs": [
    {
     "name": "stdout",
     "output_type": "stream",
     "text": [
      "Empty DataFrame\n",
      "Columns: [agent_id]\n",
      "Index: []\n"
     ]
    }
   ],
   "source": [
    "unmatched = calls[~calls['agent_id'].isin(agents['agent_id'])]\n",
    "print(unmatched[['agent_id']].drop_duplicates())\n"
   ]
  },
  {
   "cell_type": "code",
   "execution_count": 21,
   "id": "f27b1c86-d619-40c9-8c3e-5f4ba3d9f38e",
   "metadata": {},
   "outputs": [
    {
     "name": "stdout",
     "output_type": "stream",
     "text": [
      "Processed chunk 1/10\n",
      "Processed chunk 2/10\n",
      "Processed chunk 3/10\n",
      "Processed chunk 4/10\n",
      "Processed chunk 5/10\n",
      "Processed chunk 6/10\n",
      "Processed chunk 7/10\n",
      "Processed chunk 8/10\n",
      "Processed chunk 9/10\n",
      "Processed chunk 10/10\n"
     ]
    }
   ],
   "source": [
    "import pandas as pd\n",
    "\n",
    "# Load the calls data\n",
    "calls = pd.read_csv(\"../data/clean/calls_fixed.csv\")\n",
    "\n",
    "# Define chunk size (e.g., 5000 rows per chunk)\n",
    "chunk_size = 5000\n",
    "\n",
    "# Create chunks of the DataFrame\n",
    "chunks = [calls[i:i + chunk_size] for i in range(0, len(calls), chunk_size)]\n",
    "\n",
    "# Process each chunk (you can import them one by one)\n",
    "for i, chunk in enumerate(chunks):\n",
    "    # Save each chunk as a separate CSV (or directly import to the database)\n",
    "    chunk.to_csv(f\"calls_chunk_{i}.csv\", index=False)\n",
    "    print(f\"Processed chunk {i + 1}/{len(chunks)}\")\n"
   ]
  },
  {
   "cell_type": "markdown",
   "id": "a702dc32-e4e2-4459-9a60-3578566a7171",
   "metadata": {},
   "source": [
    "# abandonments"
   ]
  },
  {
   "cell_type": "code",
   "execution_count": 7,
   "id": "bd57c6d3-abf7-4899-908c-1e19ba773e07",
   "metadata": {},
   "outputs": [
    {
     "data": {
      "text/html": [
       "<div>\n",
       "<style scoped>\n",
       "    .dataframe tbody tr th:only-of-type {\n",
       "        vertical-align: middle;\n",
       "    }\n",
       "\n",
       "    .dataframe tbody tr th {\n",
       "        vertical-align: top;\n",
       "    }\n",
       "\n",
       "    .dataframe thead th {\n",
       "        text-align: right;\n",
       "    }\n",
       "</style>\n",
       "<table border=\"1\" class=\"dataframe\">\n",
       "  <thead>\n",
       "    <tr style=\"text-align: right;\">\n",
       "      <th></th>\n",
       "      <th>call_id</th>\n",
       "      <th>customer_id</th>\n",
       "      <th>abandoned</th>\n",
       "      <th>abandonment_reason</th>\n",
       "      <th>call_duration_before_abandonment_(mins)</th>\n",
       "    </tr>\n",
       "  </thead>\n",
       "  <tbody>\n",
       "    <tr>\n",
       "      <th>0</th>\n",
       "      <td>6a46e92d-eea1-4b73-8280-e984be9062f2</td>\n",
       "      <td>67fceb4d-9979-458d-83d7-278bb72071a1</td>\n",
       "      <td>False</td>\n",
       "      <td>NaN</td>\n",
       "      <td>NaN</td>\n",
       "    </tr>\n",
       "    <tr>\n",
       "      <th>1</th>\n",
       "      <td>9f7701fa-e09c-492d-ad17-965d3f78d7cf</td>\n",
       "      <td>b0b60b98-c26b-4762-ab03-9cd12686a342</td>\n",
       "      <td>False</td>\n",
       "      <td>NaN</td>\n",
       "      <td>NaN</td>\n",
       "    </tr>\n",
       "    <tr>\n",
       "      <th>2</th>\n",
       "      <td>dc2f1429-8426-4adc-b2f6-a8c71936ac06</td>\n",
       "      <td>44eeb102-aa03-4409-bc45-d5167b02108a</td>\n",
       "      <td>True</td>\n",
       "      <td>Answered by Wrong Department</td>\n",
       "      <td>8.0</td>\n",
       "    </tr>\n",
       "    <tr>\n",
       "      <th>3</th>\n",
       "      <td>c33d4e40-43ea-48b7-a993-0963f4c51cf5</td>\n",
       "      <td>be62532a-b9d7-49a4-9592-ef3e2dffa42b</td>\n",
       "      <td>False</td>\n",
       "      <td>NaN</td>\n",
       "      <td>NaN</td>\n",
       "    </tr>\n",
       "    <tr>\n",
       "      <th>4</th>\n",
       "      <td>81b1bc42-ab35-4579-94c3-c5d732ef680a</td>\n",
       "      <td>f1bca76b-4a97-49ac-b51d-51ce2e861877</td>\n",
       "      <td>True</td>\n",
       "      <td>Long Wait Time</td>\n",
       "      <td>NaN</td>\n",
       "    </tr>\n",
       "  </tbody>\n",
       "</table>\n",
       "</div>"
      ],
      "text/plain": [
       "                                call_id                           customer_id  \\\n",
       "0  6a46e92d-eea1-4b73-8280-e984be9062f2  67fceb4d-9979-458d-83d7-278bb72071a1   \n",
       "1  9f7701fa-e09c-492d-ad17-965d3f78d7cf  b0b60b98-c26b-4762-ab03-9cd12686a342   \n",
       "2  dc2f1429-8426-4adc-b2f6-a8c71936ac06  44eeb102-aa03-4409-bc45-d5167b02108a   \n",
       "3  c33d4e40-43ea-48b7-a993-0963f4c51cf5  be62532a-b9d7-49a4-9592-ef3e2dffa42b   \n",
       "4  81b1bc42-ab35-4579-94c3-c5d732ef680a  f1bca76b-4a97-49ac-b51d-51ce2e861877   \n",
       "\n",
       "   abandoned            abandonment_reason  \\\n",
       "0      False                           NaN   \n",
       "1      False                           NaN   \n",
       "2       True  Answered by Wrong Department   \n",
       "3      False                           NaN   \n",
       "4       True                Long Wait Time   \n",
       "\n",
       "   call_duration_before_abandonment_(mins)  \n",
       "0                                      NaN  \n",
       "1                                      NaN  \n",
       "2                                      8.0  \n",
       "3                                      NaN  \n",
       "4                                      NaN  "
      ]
     },
     "metadata": {},
     "output_type": "display_data"
    },
    {
     "data": {
      "text/plain": [
       "(5000, 5)"
      ]
     },
     "metadata": {},
     "output_type": "display_data"
    },
    {
     "data": {
      "text/plain": [
       "call_id                                     object\n",
       "customer_id                                 object\n",
       "abandoned                                     bool\n",
       "abandonment_reason                          object\n",
       "call_duration_before_abandonment_(mins)    float64\n",
       "dtype: object"
      ]
     },
     "metadata": {},
     "output_type": "display_data"
    }
   ],
   "source": [
    "import pandas as pd\n",
    "\n",
    "abandonments = pd.read_csv(\"../data/clean/call_abandonment.csv\")\n",
    "\n",
    "display(abandonments.head())\n",
    "display(abandonments.shape)\n",
    "display(abandonments.dtypes)"
   ]
  },
  {
   "cell_type": "code",
   "execution_count": 9,
   "id": "0bb151c7-7b5e-4509-a18e-94916a8bac9c",
   "metadata": {},
   "outputs": [
    {
     "data": {
      "text/plain": [
       "np.int64(2446)"
      ]
     },
     "execution_count": 9,
     "metadata": {},
     "output_type": "execute_result"
    }
   ],
   "source": [
    "abandonments['abandoned'].sum()\n",
    "# counts how many calls were abandoned."
   ]
  },
  {
   "cell_type": "code",
   "execution_count": 23,
   "id": "f26604ff-bddd-4aa2-8626-aca96585791d",
   "metadata": {},
   "outputs": [
    {
     "name": "stdout",
     "output_type": "stream",
     "text": [
      "✅ Fixed call_abandonment.csv — all IDs now match calls_fixed.csv.\n"
     ]
    }
   ],
   "source": [
    "import pandas as pd\n",
    "import numpy as np\n",
    "\n",
    "# Load data\n",
    "abandonments = pd.read_csv(\"../data/clean/call_abandonment.csv\")\n",
    "calls = pd.read_csv(\"../data/clean/calls_fixed.csv\")\n",
    "\n",
    "# Get valid call_id and customer_id pairs\n",
    "valid_pairs = calls[['call_id', 'customer_id']].dropna()\n",
    "\n",
    "# Sample new valid pairs (same number as in abandonments)\n",
    "sampled_pairs = valid_pairs.sample(n=len(abandonments), replace=True).reset_index(drop=True)\n",
    "\n",
    "# Replace call_id and customer_id in abandonments\n",
    "abandonments['call_id'] = sampled_pairs['call_id']\n",
    "abandonments['customer_id'] = sampled_pairs['customer_id']\n",
    "\n",
    "# Save fixed version\n",
    "abandonments.to_csv(\"../data/clean/call_abandonment_fixed.csv\", index=False)\n",
    "\n",
    "print(\"✅ Fixed call_abandonment.csv — all IDs now match calls_fixed.csv.\")\n"
   ]
  },
  {
   "cell_type": "markdown",
   "id": "976f5689-6896-4488-92a7-b8ce52d66528",
   "metadata": {},
   "source": [
    "# escalations"
   ]
  },
  {
   "cell_type": "code",
   "execution_count": 10,
   "id": "5097f85c-87d3-422e-83ed-a12dae5f407c",
   "metadata": {},
   "outputs": [
    {
     "data": {
      "text/html": [
       "<div>\n",
       "<style scoped>\n",
       "    .dataframe tbody tr th:only-of-type {\n",
       "        vertical-align: middle;\n",
       "    }\n",
       "\n",
       "    .dataframe tbody tr th {\n",
       "        vertical-align: top;\n",
       "    }\n",
       "\n",
       "    .dataframe thead th {\n",
       "        text-align: right;\n",
       "    }\n",
       "</style>\n",
       "<table border=\"1\" class=\"dataframe\">\n",
       "  <thead>\n",
       "    <tr style=\"text-align: right;\">\n",
       "      <th></th>\n",
       "      <th>escalation_id</th>\n",
       "      <th>customer_id</th>\n",
       "      <th>agent_id</th>\n",
       "      <th>issue_type</th>\n",
       "      <th>escalation_reason</th>\n",
       "      <th>escalated_department</th>\n",
       "      <th>resolution_status</th>\n",
       "    </tr>\n",
       "  </thead>\n",
       "  <tbody>\n",
       "    <tr>\n",
       "      <th>0</th>\n",
       "      <td>eb7ee6f4-641b-4a13-a9ab-46f75e9e319b</td>\n",
       "      <td>fd219147-0546-4e46-b97a-26de84690b9e</td>\n",
       "      <td>ebe8b5a4-caf3-46a0-a28f-09257af849f5</td>\n",
       "      <td>Billing Inquiry</td>\n",
       "      <td>Customer request</td>\n",
       "      <td>Specialist</td>\n",
       "      <td>Resolved</td>\n",
       "    </tr>\n",
       "    <tr>\n",
       "      <th>1</th>\n",
       "      <td>f7455727-fcc6-4a13-863c-a66649381351</td>\n",
       "      <td>d6d606cc-a60a-46fb-9ce9-98f6720384fc</td>\n",
       "      <td>1ed2f01a-7906-4b5a-935c-6e77f4629d18</td>\n",
       "      <td>Technical Support</td>\n",
       "      <td>Customer request</td>\n",
       "      <td>Management</td>\n",
       "      <td>Pending</td>\n",
       "    </tr>\n",
       "    <tr>\n",
       "      <th>2</th>\n",
       "      <td>532c5105-87c0-4abc-a331-dac3570ffd06</td>\n",
       "      <td>0073e1bc-a5a4-4348-b3b3-5d4e5e92eb75</td>\n",
       "      <td>11c275d9-0665-4d23-8db3-bab08b992b19</td>\n",
       "      <td>Technical Support</td>\n",
       "      <td>Policy issue</td>\n",
       "      <td>Support</td>\n",
       "      <td>Closed</td>\n",
       "    </tr>\n",
       "    <tr>\n",
       "      <th>3</th>\n",
       "      <td>1082529b-bed0-4287-90d6-e895e2e9d7e9</td>\n",
       "      <td>383338d7-c373-41d7-9e51-d5cad7a0a77e</td>\n",
       "      <td>4c92c7ea-2a5e-4254-bb4d-d9033d98b8ab</td>\n",
       "      <td>Technical Support</td>\n",
       "      <td>Policy issue</td>\n",
       "      <td>Specialist</td>\n",
       "      <td>Pending</td>\n",
       "    </tr>\n",
       "    <tr>\n",
       "      <th>4</th>\n",
       "      <td>3fa6be7a-5f42-452e-9cbf-0030f0667912</td>\n",
       "      <td>7ac86e03-e281-4e23-b5c3-bfd2a2017d38</td>\n",
       "      <td>e09ad210-5a3f-4eff-905e-2ad29b22febe</td>\n",
       "      <td>Complaint</td>\n",
       "      <td>Policy issue</td>\n",
       "      <td>Specialist</td>\n",
       "      <td>Pending</td>\n",
       "    </tr>\n",
       "  </tbody>\n",
       "</table>\n",
       "</div>"
      ],
      "text/plain": [
       "                          escalation_id                           customer_id  \\\n",
       "0  eb7ee6f4-641b-4a13-a9ab-46f75e9e319b  fd219147-0546-4e46-b97a-26de84690b9e   \n",
       "1  f7455727-fcc6-4a13-863c-a66649381351  d6d606cc-a60a-46fb-9ce9-98f6720384fc   \n",
       "2  532c5105-87c0-4abc-a331-dac3570ffd06  0073e1bc-a5a4-4348-b3b3-5d4e5e92eb75   \n",
       "3  1082529b-bed0-4287-90d6-e895e2e9d7e9  383338d7-c373-41d7-9e51-d5cad7a0a77e   \n",
       "4  3fa6be7a-5f42-452e-9cbf-0030f0667912  7ac86e03-e281-4e23-b5c3-bfd2a2017d38   \n",
       "\n",
       "                               agent_id         issue_type escalation_reason  \\\n",
       "0  ebe8b5a4-caf3-46a0-a28f-09257af849f5    Billing Inquiry  Customer request   \n",
       "1  1ed2f01a-7906-4b5a-935c-6e77f4629d18  Technical Support  Customer request   \n",
       "2  11c275d9-0665-4d23-8db3-bab08b992b19  Technical Support      Policy issue   \n",
       "3  4c92c7ea-2a5e-4254-bb4d-d9033d98b8ab  Technical Support      Policy issue   \n",
       "4  e09ad210-5a3f-4eff-905e-2ad29b22febe          Complaint      Policy issue   \n",
       "\n",
       "  escalated_department resolution_status  \n",
       "0           Specialist          Resolved  \n",
       "1           Management           Pending  \n",
       "2              Support            Closed  \n",
       "3           Specialist           Pending  \n",
       "4           Specialist           Pending  "
      ]
     },
     "metadata": {},
     "output_type": "display_data"
    },
    {
     "data": {
      "text/plain": [
       "(5000, 7)"
      ]
     },
     "metadata": {},
     "output_type": "display_data"
    },
    {
     "data": {
      "text/plain": [
       "escalation_id           object\n",
       "customer_id             object\n",
       "agent_id                object\n",
       "issue_type              object\n",
       "escalation_reason       object\n",
       "escalated_department    object\n",
       "resolution_status       object\n",
       "dtype: object"
      ]
     },
     "metadata": {},
     "output_type": "display_data"
    }
   ],
   "source": [
    "import pandas as pd\n",
    "\n",
    "escalations = pd.read_csv(\"../data/clean/escalations.csv\")\n",
    "\n",
    "display(escalations.head())\n",
    "display(escalations.shape)\n",
    "display(escalations.dtypes)"
   ]
  },
  {
   "cell_type": "code",
   "execution_count": 24,
   "id": "eb5eb536-746e-4153-a6fa-b6fe2c5dbbe1",
   "metadata": {},
   "outputs": [
    {
     "ename": "FileNotFoundError",
     "evalue": "[Errno 2] No such file or directory: '../data/clean/customers.csv'",
     "output_type": "error",
     "traceback": [
      "\u001b[1;31m---------------------------------------------------------------------------\u001b[0m",
      "\u001b[1;31mFileNotFoundError\u001b[0m                         Traceback (most recent call last)",
      "Cell \u001b[1;32mIn[24], line 11\u001b[0m\n\u001b[0;32m      9\u001b[0m \u001b[38;5;66;03m# Load the agents and customers data (make sure they exist)\u001b[39;00m\n\u001b[0;32m     10\u001b[0m agents \u001b[38;5;241m=\u001b[39m pd\u001b[38;5;241m.\u001b[39mread_csv(\u001b[38;5;124m\"\u001b[39m\u001b[38;5;124m../data/clean/agents.csv\u001b[39m\u001b[38;5;124m\"\u001b[39m)\n\u001b[1;32m---> 11\u001b[0m customers \u001b[38;5;241m=\u001b[39m \u001b[43mpd\u001b[49m\u001b[38;5;241;43m.\u001b[39;49m\u001b[43mread_csv\u001b[49m\u001b[43m(\u001b[49m\u001b[38;5;124;43m\"\u001b[39;49m\u001b[38;5;124;43m../data/clean/customers.csv\u001b[39;49m\u001b[38;5;124;43m\"\u001b[39;49m\u001b[43m)\u001b[49m\n\u001b[0;32m     13\u001b[0m \u001b[38;5;66;03m# ------------------- Fix call_abandonment.csv -------------------\u001b[39;00m\n\u001b[0;32m     14\u001b[0m \u001b[38;5;66;03m# Replace invalid call_id and customer_id in abandonments with those from calls and customers\u001b[39;00m\n\u001b[0;32m     15\u001b[0m valid_call_ids \u001b[38;5;241m=\u001b[39m calls[\u001b[38;5;124m'\u001b[39m\u001b[38;5;124mcall_id\u001b[39m\u001b[38;5;124m'\u001b[39m]\u001b[38;5;241m.\u001b[39mtolist()\n",
      "File \u001b[1;32m~\\Desktop\\ironhack\\week7\\day1\\white_wine_project\\.venv\\Lib\\site-packages\\pandas\\io\\parsers\\readers.py:1026\u001b[0m, in \u001b[0;36mread_csv\u001b[1;34m(filepath_or_buffer, sep, delimiter, header, names, index_col, usecols, dtype, engine, converters, true_values, false_values, skipinitialspace, skiprows, skipfooter, nrows, na_values, keep_default_na, na_filter, verbose, skip_blank_lines, parse_dates, infer_datetime_format, keep_date_col, date_parser, date_format, dayfirst, cache_dates, iterator, chunksize, compression, thousands, decimal, lineterminator, quotechar, quoting, doublequote, escapechar, comment, encoding, encoding_errors, dialect, on_bad_lines, delim_whitespace, low_memory, memory_map, float_precision, storage_options, dtype_backend)\u001b[0m\n\u001b[0;32m   1013\u001b[0m kwds_defaults \u001b[38;5;241m=\u001b[39m _refine_defaults_read(\n\u001b[0;32m   1014\u001b[0m     dialect,\n\u001b[0;32m   1015\u001b[0m     delimiter,\n\u001b[1;32m   (...)\u001b[0m\n\u001b[0;32m   1022\u001b[0m     dtype_backend\u001b[38;5;241m=\u001b[39mdtype_backend,\n\u001b[0;32m   1023\u001b[0m )\n\u001b[0;32m   1024\u001b[0m kwds\u001b[38;5;241m.\u001b[39mupdate(kwds_defaults)\n\u001b[1;32m-> 1026\u001b[0m \u001b[38;5;28;01mreturn\u001b[39;00m \u001b[43m_read\u001b[49m\u001b[43m(\u001b[49m\u001b[43mfilepath_or_buffer\u001b[49m\u001b[43m,\u001b[49m\u001b[43m \u001b[49m\u001b[43mkwds\u001b[49m\u001b[43m)\u001b[49m\n",
      "File \u001b[1;32m~\\Desktop\\ironhack\\week7\\day1\\white_wine_project\\.venv\\Lib\\site-packages\\pandas\\io\\parsers\\readers.py:620\u001b[0m, in \u001b[0;36m_read\u001b[1;34m(filepath_or_buffer, kwds)\u001b[0m\n\u001b[0;32m    617\u001b[0m _validate_names(kwds\u001b[38;5;241m.\u001b[39mget(\u001b[38;5;124m\"\u001b[39m\u001b[38;5;124mnames\u001b[39m\u001b[38;5;124m\"\u001b[39m, \u001b[38;5;28;01mNone\u001b[39;00m))\n\u001b[0;32m    619\u001b[0m \u001b[38;5;66;03m# Create the parser.\u001b[39;00m\n\u001b[1;32m--> 620\u001b[0m parser \u001b[38;5;241m=\u001b[39m \u001b[43mTextFileReader\u001b[49m\u001b[43m(\u001b[49m\u001b[43mfilepath_or_buffer\u001b[49m\u001b[43m,\u001b[49m\u001b[43m \u001b[49m\u001b[38;5;241;43m*\u001b[39;49m\u001b[38;5;241;43m*\u001b[39;49m\u001b[43mkwds\u001b[49m\u001b[43m)\u001b[49m\n\u001b[0;32m    622\u001b[0m \u001b[38;5;28;01mif\u001b[39;00m chunksize \u001b[38;5;129;01mor\u001b[39;00m iterator:\n\u001b[0;32m    623\u001b[0m     \u001b[38;5;28;01mreturn\u001b[39;00m parser\n",
      "File \u001b[1;32m~\\Desktop\\ironhack\\week7\\day1\\white_wine_project\\.venv\\Lib\\site-packages\\pandas\\io\\parsers\\readers.py:1620\u001b[0m, in \u001b[0;36mTextFileReader.__init__\u001b[1;34m(self, f, engine, **kwds)\u001b[0m\n\u001b[0;32m   1617\u001b[0m     \u001b[38;5;28mself\u001b[39m\u001b[38;5;241m.\u001b[39moptions[\u001b[38;5;124m\"\u001b[39m\u001b[38;5;124mhas_index_names\u001b[39m\u001b[38;5;124m\"\u001b[39m] \u001b[38;5;241m=\u001b[39m kwds[\u001b[38;5;124m\"\u001b[39m\u001b[38;5;124mhas_index_names\u001b[39m\u001b[38;5;124m\"\u001b[39m]\n\u001b[0;32m   1619\u001b[0m \u001b[38;5;28mself\u001b[39m\u001b[38;5;241m.\u001b[39mhandles: IOHandles \u001b[38;5;241m|\u001b[39m \u001b[38;5;28;01mNone\u001b[39;00m \u001b[38;5;241m=\u001b[39m \u001b[38;5;28;01mNone\u001b[39;00m\n\u001b[1;32m-> 1620\u001b[0m \u001b[38;5;28mself\u001b[39m\u001b[38;5;241m.\u001b[39m_engine \u001b[38;5;241m=\u001b[39m \u001b[38;5;28;43mself\u001b[39;49m\u001b[38;5;241;43m.\u001b[39;49m\u001b[43m_make_engine\u001b[49m\u001b[43m(\u001b[49m\u001b[43mf\u001b[49m\u001b[43m,\u001b[49m\u001b[43m \u001b[49m\u001b[38;5;28;43mself\u001b[39;49m\u001b[38;5;241;43m.\u001b[39;49m\u001b[43mengine\u001b[49m\u001b[43m)\u001b[49m\n",
      "File \u001b[1;32m~\\Desktop\\ironhack\\week7\\day1\\white_wine_project\\.venv\\Lib\\site-packages\\pandas\\io\\parsers\\readers.py:1880\u001b[0m, in \u001b[0;36mTextFileReader._make_engine\u001b[1;34m(self, f, engine)\u001b[0m\n\u001b[0;32m   1878\u001b[0m     \u001b[38;5;28;01mif\u001b[39;00m \u001b[38;5;124m\"\u001b[39m\u001b[38;5;124mb\u001b[39m\u001b[38;5;124m\"\u001b[39m \u001b[38;5;129;01mnot\u001b[39;00m \u001b[38;5;129;01min\u001b[39;00m mode:\n\u001b[0;32m   1879\u001b[0m         mode \u001b[38;5;241m+\u001b[39m\u001b[38;5;241m=\u001b[39m \u001b[38;5;124m\"\u001b[39m\u001b[38;5;124mb\u001b[39m\u001b[38;5;124m\"\u001b[39m\n\u001b[1;32m-> 1880\u001b[0m \u001b[38;5;28mself\u001b[39m\u001b[38;5;241m.\u001b[39mhandles \u001b[38;5;241m=\u001b[39m \u001b[43mget_handle\u001b[49m\u001b[43m(\u001b[49m\n\u001b[0;32m   1881\u001b[0m \u001b[43m    \u001b[49m\u001b[43mf\u001b[49m\u001b[43m,\u001b[49m\n\u001b[0;32m   1882\u001b[0m \u001b[43m    \u001b[49m\u001b[43mmode\u001b[49m\u001b[43m,\u001b[49m\n\u001b[0;32m   1883\u001b[0m \u001b[43m    \u001b[49m\u001b[43mencoding\u001b[49m\u001b[38;5;241;43m=\u001b[39;49m\u001b[38;5;28;43mself\u001b[39;49m\u001b[38;5;241;43m.\u001b[39;49m\u001b[43moptions\u001b[49m\u001b[38;5;241;43m.\u001b[39;49m\u001b[43mget\u001b[49m\u001b[43m(\u001b[49m\u001b[38;5;124;43m\"\u001b[39;49m\u001b[38;5;124;43mencoding\u001b[39;49m\u001b[38;5;124;43m\"\u001b[39;49m\u001b[43m,\u001b[49m\u001b[43m \u001b[49m\u001b[38;5;28;43;01mNone\u001b[39;49;00m\u001b[43m)\u001b[49m\u001b[43m,\u001b[49m\n\u001b[0;32m   1884\u001b[0m \u001b[43m    \u001b[49m\u001b[43mcompression\u001b[49m\u001b[38;5;241;43m=\u001b[39;49m\u001b[38;5;28;43mself\u001b[39;49m\u001b[38;5;241;43m.\u001b[39;49m\u001b[43moptions\u001b[49m\u001b[38;5;241;43m.\u001b[39;49m\u001b[43mget\u001b[49m\u001b[43m(\u001b[49m\u001b[38;5;124;43m\"\u001b[39;49m\u001b[38;5;124;43mcompression\u001b[39;49m\u001b[38;5;124;43m\"\u001b[39;49m\u001b[43m,\u001b[49m\u001b[43m \u001b[49m\u001b[38;5;28;43;01mNone\u001b[39;49;00m\u001b[43m)\u001b[49m\u001b[43m,\u001b[49m\n\u001b[0;32m   1885\u001b[0m \u001b[43m    \u001b[49m\u001b[43mmemory_map\u001b[49m\u001b[38;5;241;43m=\u001b[39;49m\u001b[38;5;28;43mself\u001b[39;49m\u001b[38;5;241;43m.\u001b[39;49m\u001b[43moptions\u001b[49m\u001b[38;5;241;43m.\u001b[39;49m\u001b[43mget\u001b[49m\u001b[43m(\u001b[49m\u001b[38;5;124;43m\"\u001b[39;49m\u001b[38;5;124;43mmemory_map\u001b[39;49m\u001b[38;5;124;43m\"\u001b[39;49m\u001b[43m,\u001b[49m\u001b[43m \u001b[49m\u001b[38;5;28;43;01mFalse\u001b[39;49;00m\u001b[43m)\u001b[49m\u001b[43m,\u001b[49m\n\u001b[0;32m   1886\u001b[0m \u001b[43m    \u001b[49m\u001b[43mis_text\u001b[49m\u001b[38;5;241;43m=\u001b[39;49m\u001b[43mis_text\u001b[49m\u001b[43m,\u001b[49m\n\u001b[0;32m   1887\u001b[0m \u001b[43m    \u001b[49m\u001b[43merrors\u001b[49m\u001b[38;5;241;43m=\u001b[39;49m\u001b[38;5;28;43mself\u001b[39;49m\u001b[38;5;241;43m.\u001b[39;49m\u001b[43moptions\u001b[49m\u001b[38;5;241;43m.\u001b[39;49m\u001b[43mget\u001b[49m\u001b[43m(\u001b[49m\u001b[38;5;124;43m\"\u001b[39;49m\u001b[38;5;124;43mencoding_errors\u001b[39;49m\u001b[38;5;124;43m\"\u001b[39;49m\u001b[43m,\u001b[49m\u001b[43m \u001b[49m\u001b[38;5;124;43m\"\u001b[39;49m\u001b[38;5;124;43mstrict\u001b[39;49m\u001b[38;5;124;43m\"\u001b[39;49m\u001b[43m)\u001b[49m\u001b[43m,\u001b[49m\n\u001b[0;32m   1888\u001b[0m \u001b[43m    \u001b[49m\u001b[43mstorage_options\u001b[49m\u001b[38;5;241;43m=\u001b[39;49m\u001b[38;5;28;43mself\u001b[39;49m\u001b[38;5;241;43m.\u001b[39;49m\u001b[43moptions\u001b[49m\u001b[38;5;241;43m.\u001b[39;49m\u001b[43mget\u001b[49m\u001b[43m(\u001b[49m\u001b[38;5;124;43m\"\u001b[39;49m\u001b[38;5;124;43mstorage_options\u001b[39;49m\u001b[38;5;124;43m\"\u001b[39;49m\u001b[43m,\u001b[49m\u001b[43m \u001b[49m\u001b[38;5;28;43;01mNone\u001b[39;49;00m\u001b[43m)\u001b[49m\u001b[43m,\u001b[49m\n\u001b[0;32m   1889\u001b[0m \u001b[43m\u001b[49m\u001b[43m)\u001b[49m\n\u001b[0;32m   1890\u001b[0m \u001b[38;5;28;01massert\u001b[39;00m \u001b[38;5;28mself\u001b[39m\u001b[38;5;241m.\u001b[39mhandles \u001b[38;5;129;01mis\u001b[39;00m \u001b[38;5;129;01mnot\u001b[39;00m \u001b[38;5;28;01mNone\u001b[39;00m\n\u001b[0;32m   1891\u001b[0m f \u001b[38;5;241m=\u001b[39m \u001b[38;5;28mself\u001b[39m\u001b[38;5;241m.\u001b[39mhandles\u001b[38;5;241m.\u001b[39mhandle\n",
      "File \u001b[1;32m~\\Desktop\\ironhack\\week7\\day1\\white_wine_project\\.venv\\Lib\\site-packages\\pandas\\io\\common.py:873\u001b[0m, in \u001b[0;36mget_handle\u001b[1;34m(path_or_buf, mode, encoding, compression, memory_map, is_text, errors, storage_options)\u001b[0m\n\u001b[0;32m    868\u001b[0m \u001b[38;5;28;01melif\u001b[39;00m \u001b[38;5;28misinstance\u001b[39m(handle, \u001b[38;5;28mstr\u001b[39m):\n\u001b[0;32m    869\u001b[0m     \u001b[38;5;66;03m# Check whether the filename is to be opened in binary mode.\u001b[39;00m\n\u001b[0;32m    870\u001b[0m     \u001b[38;5;66;03m# Binary mode does not support 'encoding' and 'newline'.\u001b[39;00m\n\u001b[0;32m    871\u001b[0m     \u001b[38;5;28;01mif\u001b[39;00m ioargs\u001b[38;5;241m.\u001b[39mencoding \u001b[38;5;129;01mand\u001b[39;00m \u001b[38;5;124m\"\u001b[39m\u001b[38;5;124mb\u001b[39m\u001b[38;5;124m\"\u001b[39m \u001b[38;5;129;01mnot\u001b[39;00m \u001b[38;5;129;01min\u001b[39;00m ioargs\u001b[38;5;241m.\u001b[39mmode:\n\u001b[0;32m    872\u001b[0m         \u001b[38;5;66;03m# Encoding\u001b[39;00m\n\u001b[1;32m--> 873\u001b[0m         handle \u001b[38;5;241m=\u001b[39m \u001b[38;5;28;43mopen\u001b[39;49m\u001b[43m(\u001b[49m\n\u001b[0;32m    874\u001b[0m \u001b[43m            \u001b[49m\u001b[43mhandle\u001b[49m\u001b[43m,\u001b[49m\n\u001b[0;32m    875\u001b[0m \u001b[43m            \u001b[49m\u001b[43mioargs\u001b[49m\u001b[38;5;241;43m.\u001b[39;49m\u001b[43mmode\u001b[49m\u001b[43m,\u001b[49m\n\u001b[0;32m    876\u001b[0m \u001b[43m            \u001b[49m\u001b[43mencoding\u001b[49m\u001b[38;5;241;43m=\u001b[39;49m\u001b[43mioargs\u001b[49m\u001b[38;5;241;43m.\u001b[39;49m\u001b[43mencoding\u001b[49m\u001b[43m,\u001b[49m\n\u001b[0;32m    877\u001b[0m \u001b[43m            \u001b[49m\u001b[43merrors\u001b[49m\u001b[38;5;241;43m=\u001b[39;49m\u001b[43merrors\u001b[49m\u001b[43m,\u001b[49m\n\u001b[0;32m    878\u001b[0m \u001b[43m            \u001b[49m\u001b[43mnewline\u001b[49m\u001b[38;5;241;43m=\u001b[39;49m\u001b[38;5;124;43m\"\u001b[39;49m\u001b[38;5;124;43m\"\u001b[39;49m\u001b[43m,\u001b[49m\n\u001b[0;32m    879\u001b[0m \u001b[43m        \u001b[49m\u001b[43m)\u001b[49m\n\u001b[0;32m    880\u001b[0m     \u001b[38;5;28;01melse\u001b[39;00m:\n\u001b[0;32m    881\u001b[0m         \u001b[38;5;66;03m# Binary mode\u001b[39;00m\n\u001b[0;32m    882\u001b[0m         handle \u001b[38;5;241m=\u001b[39m \u001b[38;5;28mopen\u001b[39m(handle, ioargs\u001b[38;5;241m.\u001b[39mmode)\n",
      "\u001b[1;31mFileNotFoundError\u001b[0m: [Errno 2] No such file or directory: '../data/clean/customers.csv'"
     ]
    }
   ],
   "source": [
    "import pandas as pd\n",
    "import numpy as np\n",
    "\n",
    "# Load the CSV files\n",
    "calls = pd.read_csv(\"../data/clean/calls_fixed.csv\")  # Assuming this has been cleaned already\n",
    "abandonments = pd.read_csv(\"../data/clean/call_abandonment.csv\")\n",
    "escalations = pd.read_csv(\"../data/clean/escalations.csv\")\n",
    "\n",
    "# Load the agents and customers data (make sure they exist)\n",
    "agents = pd.read_csv(\"../data/clean/agents.csv\")\n",
    "customers = pd.read_csv(\"../data/clean/customers.csv\")\n",
    "\n",
    "# ------------------- Fix call_abandonment.csv -------------------\n",
    "# Replace invalid call_id and customer_id in abandonments with those from calls and customers\n",
    "valid_call_ids = calls['call_id'].tolist()\n",
    "valid_customer_ids = customers['customer_id'].tolist()\n",
    "\n",
    "# Replace invalid call_ids with valid ones from calls\n",
    "abandonments['call_id'] = abandonments['call_id'].apply(\n",
    "    lambda x: x if x in valid_call_ids else np.random.choice(valid_call_ids)\n",
    ")\n",
    "\n",
    "# Replace invalid customer_ids with valid ones from customers\n",
    "abandonments['customer_id'] = abandonments['customer_id'].apply(\n",
    "    lambda x: x if x in valid_customer_ids else np.random.choice(valid_customer_ids)\n",
    ")\n",
    "\n",
    "# Save the fixed abandonment file\n",
    "abandonments.to_csv(\"../data/clean/call_abandonment_fixed.csv\", index=False)\n",
    "\n",
    "print(\"✅ Fixed call_abandonment.csv — all IDs now match calls_fixed.csv.\")\n",
    "\n",
    "# ------------------- Fix escalations.csv -------------------\n",
    "# Replace invalid customer_id and agent_id in escalations with those from customers and agents\n",
    "valid_agents = agents['agent_id'].tolist()\n",
    "valid_customers = customers['customer_id'].tolist()\n",
    "\n",
    "# Replace invalid agent_ids with valid ones from agents\n",
    "escalations['agent_id'] = escalations['agent_id'].apply(\n",
    "    lambda x: x if x in valid_agents else np.random.choice(valid_agents)\n",
    ")\n",
    "\n",
    "# Replace invalid customer_ids with valid ones from customers\n",
    "escalations['customer_id'] = escalations['customer_id'].apply(\n",
    "    lambda x: x if x in valid_customers else np.random.choice(valid_customers)\n",
    ")\n",
    "\n",
    "# Save the fixed escalations file\n",
    "escalations.to_csv(\"../data/clean/escalations_fixed.csv\", index=False)\n",
    "\n",
    "print(\"✅ Fixed escalations.csv — all IDs now match customers and agents.\")\n",
    "\n",
    "# Optionally, you can also save a summary of changes\n",
    "abandonments_invalid_count = abandonments[~abandonments['call_id'].isin(valid_call_ids)].shape[0]\n",
    "escalations_invalid_count = escalations[~escalations['customer_id'].isin(valid_customers)].shape[0]\n",
    "\n",
    "print(f\"Invalid entries fixed in abandonments: {abandonments_invalid_count}\")\n",
    "print(f\"Invalid entries fixed in escalations: {escalations_invalid_count}\")\n"
   ]
  },
  {
   "cell_type": "markdown",
   "id": "b5bc733d-5a29-48ff-89fe-ed30704e72cf",
   "metadata": {},
   "source": [
    "# csat"
   ]
  },
  {
   "cell_type": "code",
   "execution_count": 13,
   "id": "f1e69083-b620-49fb-8d57-157179547f0d",
   "metadata": {},
   "outputs": [
    {
     "data": {
      "text/html": [
       "<div>\n",
       "<style scoped>\n",
       "    .dataframe tbody tr th:only-of-type {\n",
       "        vertical-align: middle;\n",
       "    }\n",
       "\n",
       "    .dataframe tbody tr th {\n",
       "        vertical-align: top;\n",
       "    }\n",
       "\n",
       "    .dataframe thead th {\n",
       "        text-align: right;\n",
       "    }\n",
       "</style>\n",
       "<table border=\"1\" class=\"dataframe\">\n",
       "  <thead>\n",
       "    <tr style=\"text-align: right;\">\n",
       "      <th></th>\n",
       "      <th>survey_id</th>\n",
       "      <th>customer_id</th>\n",
       "      <th>agent_id</th>\n",
       "      <th>survey_date</th>\n",
       "      <th>rating</th>\n",
       "      <th>comments</th>\n",
       "    </tr>\n",
       "  </thead>\n",
       "  <tbody>\n",
       "    <tr>\n",
       "      <th>0</th>\n",
       "      <td>f7534db5-4436-4732-ba2b-f484533e13dd</td>\n",
       "      <td>acb6e64b-b66f-4131-9f43-3c2ee7452132</td>\n",
       "      <td>afcbaef0-7f53-46c4-8527-8d76edc7f08c</td>\n",
       "      <td>2025-06-28</td>\n",
       "      <td>5</td>\n",
       "      <td>Glass only deep song growth character child. F...</td>\n",
       "    </tr>\n",
       "    <tr>\n",
       "      <th>1</th>\n",
       "      <td>09ab58c7-35a2-427f-98f5-cf9d6a3c9604</td>\n",
       "      <td>d09f1519-055b-4522-9c72-2344df538ca4</td>\n",
       "      <td>d8a94d44-48fc-45ff-b9b6-55f6faa22bc4</td>\n",
       "      <td>2025-04-01</td>\n",
       "      <td>4</td>\n",
       "      <td>Themselves performance soldier middle about gu...</td>\n",
       "    </tr>\n",
       "    <tr>\n",
       "      <th>2</th>\n",
       "      <td>e8674db2-76a0-41f3-be2d-cfc79c80d78e</td>\n",
       "      <td>92e5234d-1d5c-4052-adbb-69c4bc319511</td>\n",
       "      <td>9856a5e1-5c63-4f32-9e7c-6027c4832b43</td>\n",
       "      <td>2025-02-22</td>\n",
       "      <td>1</td>\n",
       "      <td>Statement say strong price. Pass billion at bu...</td>\n",
       "    </tr>\n",
       "    <tr>\n",
       "      <th>3</th>\n",
       "      <td>0034d910-2c68-4e46-a3a5-43cc2e5b4ce0</td>\n",
       "      <td>f56d08de-80e7-4dc5-bb3a-32c1149a2c10</td>\n",
       "      <td>2e40c3da-5387-4631-b279-e4c21135bf49</td>\n",
       "      <td>2025-06-15</td>\n",
       "      <td>4</td>\n",
       "      <td>Why reason debate theory college nation. Weigh...</td>\n",
       "    </tr>\n",
       "    <tr>\n",
       "      <th>4</th>\n",
       "      <td>eb231962-c292-4eb8-a73b-e8e9433744ab</td>\n",
       "      <td>e5debafb-ac78-4dc9-b49e-1590934173e6</td>\n",
       "      <td>067d6802-bbc2-46ba-aa62-bf9fc1b7e1b7</td>\n",
       "      <td>2025-07-09</td>\n",
       "      <td>4</td>\n",
       "      <td>Must within through. Successful capital centra...</td>\n",
       "    </tr>\n",
       "  </tbody>\n",
       "</table>\n",
       "</div>"
      ],
      "text/plain": [
       "                              survey_id                           customer_id  \\\n",
       "0  f7534db5-4436-4732-ba2b-f484533e13dd  acb6e64b-b66f-4131-9f43-3c2ee7452132   \n",
       "1  09ab58c7-35a2-427f-98f5-cf9d6a3c9604  d09f1519-055b-4522-9c72-2344df538ca4   \n",
       "2  e8674db2-76a0-41f3-be2d-cfc79c80d78e  92e5234d-1d5c-4052-adbb-69c4bc319511   \n",
       "3  0034d910-2c68-4e46-a3a5-43cc2e5b4ce0  f56d08de-80e7-4dc5-bb3a-32c1149a2c10   \n",
       "4  eb231962-c292-4eb8-a73b-e8e9433744ab  e5debafb-ac78-4dc9-b49e-1590934173e6   \n",
       "\n",
       "                               agent_id survey_date  rating  \\\n",
       "0  afcbaef0-7f53-46c4-8527-8d76edc7f08c  2025-06-28       5   \n",
       "1  d8a94d44-48fc-45ff-b9b6-55f6faa22bc4  2025-04-01       4   \n",
       "2  9856a5e1-5c63-4f32-9e7c-6027c4832b43  2025-02-22       1   \n",
       "3  2e40c3da-5387-4631-b279-e4c21135bf49  2025-06-15       4   \n",
       "4  067d6802-bbc2-46ba-aa62-bf9fc1b7e1b7  2025-07-09       4   \n",
       "\n",
       "                                            comments  \n",
       "0  Glass only deep song growth character child. F...  \n",
       "1  Themselves performance soldier middle about gu...  \n",
       "2  Statement say strong price. Pass billion at bu...  \n",
       "3  Why reason debate theory college nation. Weigh...  \n",
       "4  Must within through. Successful capital centra...  "
      ]
     },
     "metadata": {},
     "output_type": "display_data"
    },
    {
     "data": {
      "text/plain": [
       "(10000, 6)"
      ]
     },
     "metadata": {},
     "output_type": "display_data"
    },
    {
     "data": {
      "text/plain": [
       "survey_id      object\n",
       "customer_id    object\n",
       "agent_id       object\n",
       "survey_date    object\n",
       "rating          int64\n",
       "comments       object\n",
       "dtype: object"
      ]
     },
     "metadata": {},
     "output_type": "display_data"
    }
   ],
   "source": [
    "import pandas as pd\n",
    "\n",
    "csat = pd.read_csv(\"../data/clean/csat.csv\")\n",
    "\n",
    "display(csat.head())\n",
    "display(csat.shape)\n",
    "display(csat.dtypes)"
   ]
  },
  {
   "cell_type": "code",
   "execution_count": null,
   "id": "d238a54b-e0a1-49fc-8bc3-7ae20d0e2afd",
   "metadata": {},
   "outputs": [],
   "source": []
  }
 ],
 "metadata": {
  "kernelspec": {
   "display_name": "venv",
   "language": "python",
   "name": "venv"
  },
  "language_info": {
   "codemirror_mode": {
    "name": "ipython",
    "version": 3
   },
   "file_extension": ".py",
   "mimetype": "text/x-python",
   "name": "python",
   "nbconvert_exporter": "python",
   "pygments_lexer": "ipython3",
   "version": "3.12.7"
  }
 },
 "nbformat": 4,
 "nbformat_minor": 5
}
