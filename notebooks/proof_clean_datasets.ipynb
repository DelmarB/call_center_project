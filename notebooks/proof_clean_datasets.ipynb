{
 "cells": [
  {
   "cell_type": "markdown",
   "id": "2c2ced85-bbed-4438-bafb-557ddecc5cd5",
   "metadata": {},
   "source": [
    "# departments"
   ]
  },
  {
   "cell_type": "code",
   "execution_count": 4,
   "id": "c75c3763-28da-4446-947a-fc22a27c65d0",
   "metadata": {
    "scrolled": true
   },
   "outputs": [
    {
     "data": {
      "text/html": [
       "<div>\n",
       "<style scoped>\n",
       "    .dataframe tbody tr th:only-of-type {\n",
       "        vertical-align: middle;\n",
       "    }\n",
       "\n",
       "    .dataframe tbody tr th {\n",
       "        vertical-align: top;\n",
       "    }\n",
       "\n",
       "    .dataframe thead th {\n",
       "        text-align: right;\n",
       "    }\n",
       "</style>\n",
       "<table border=\"1\" class=\"dataframe\">\n",
       "  <thead>\n",
       "    <tr style=\"text-align: right;\">\n",
       "      <th></th>\n",
       "      <th>department_id</th>\n",
       "      <th>dummy</th>\n",
       "    </tr>\n",
       "  </thead>\n",
       "  <tbody>\n",
       "    <tr>\n",
       "      <th>0</th>\n",
       "      <td>Sales</td>\n",
       "      <td>NaN</td>\n",
       "    </tr>\n",
       "    <tr>\n",
       "      <th>1</th>\n",
       "      <td>Technical</td>\n",
       "      <td>NaN</td>\n",
       "    </tr>\n",
       "    <tr>\n",
       "      <th>2</th>\n",
       "      <td>Support</td>\n",
       "      <td>NaN</td>\n",
       "    </tr>\n",
       "    <tr>\n",
       "      <th>3</th>\n",
       "      <td>Specialist</td>\n",
       "      <td>NaN</td>\n",
       "    </tr>\n",
       "    <tr>\n",
       "      <th>4</th>\n",
       "      <td>Management</td>\n",
       "      <td>NaN</td>\n",
       "    </tr>\n",
       "  </tbody>\n",
       "</table>\n",
       "</div>"
      ],
      "text/plain": [
       "  department_id  dummy\n",
       "0         Sales    NaN\n",
       "1     Technical    NaN\n",
       "2       Support    NaN\n",
       "3    Specialist    NaN\n",
       "4    Management    NaN"
      ]
     },
     "metadata": {},
     "output_type": "display_data"
    },
    {
     "data": {
      "text/plain": [
       "(5, 2)"
      ]
     },
     "metadata": {},
     "output_type": "display_data"
    },
    {
     "data": {
      "text/plain": [
       "department_id     object\n",
       "dummy            float64\n",
       "dtype: object"
      ]
     },
     "metadata": {},
     "output_type": "display_data"
    }
   ],
   "source": [
    "import pandas as pd\n",
    "\n",
    "departments_df = pd.read_csv(\"../data/clean/all_depts.csv\")\n",
    "\n",
    "display(departments_df.head())\n",
    "display(departments_df.shape)\n",
    "display(departments_df.dtypes)\n",
    "\n",
    "# dummy column adds comma to the one original column to import better."
   ]
  },
  {
   "cell_type": "markdown",
   "id": "e799af68-c107-4f49-83cd-d35eb383f4f1",
   "metadata": {},
   "source": [
    "# customers"
   ]
  },
  {
   "cell_type": "code",
   "execution_count": 3,
   "id": "1af90a0f-2084-49f0-8a9e-1e4e869b5bec",
   "metadata": {},
   "outputs": [
    {
     "data": {
      "text/html": [
       "<div>\n",
       "<style scoped>\n",
       "    .dataframe tbody tr th:only-of-type {\n",
       "        vertical-align: middle;\n",
       "    }\n",
       "\n",
       "    .dataframe tbody tr th {\n",
       "        vertical-align: top;\n",
       "    }\n",
       "\n",
       "    .dataframe thead th {\n",
       "        text-align: right;\n",
       "    }\n",
       "</style>\n",
       "<table border=\"1\" class=\"dataframe\">\n",
       "  <thead>\n",
       "    <tr style=\"text-align: right;\">\n",
       "      <th></th>\n",
       "      <th>customer_id</th>\n",
       "      <th>dummy</th>\n",
       "    </tr>\n",
       "  </thead>\n",
       "  <tbody>\n",
       "    <tr>\n",
       "      <th>0</th>\n",
       "      <td>b584550c-641c-44d0-b308-25381125d9b9</td>\n",
       "      <td>NaN</td>\n",
       "    </tr>\n",
       "    <tr>\n",
       "      <th>1</th>\n",
       "      <td>1be4ea93-a4b3-46fd-9f9f-7c48b1b196d2</td>\n",
       "      <td>NaN</td>\n",
       "    </tr>\n",
       "    <tr>\n",
       "      <th>2</th>\n",
       "      <td>2320fd15-7b8d-4f1b-844e-d7716b6e8970</td>\n",
       "      <td>NaN</td>\n",
       "    </tr>\n",
       "    <tr>\n",
       "      <th>3</th>\n",
       "      <td>53fd6b84-3d16-4282-a4dc-2981250ea2de</td>\n",
       "      <td>NaN</td>\n",
       "    </tr>\n",
       "    <tr>\n",
       "      <th>4</th>\n",
       "      <td>a2302e13-7a77-4091-81e5-701f959100ac</td>\n",
       "      <td>NaN</td>\n",
       "    </tr>\n",
       "  </tbody>\n",
       "</table>\n",
       "</div>"
      ],
      "text/plain": [
       "                            customer_id  dummy\n",
       "0  b584550c-641c-44d0-b308-25381125d9b9    NaN\n",
       "1  1be4ea93-a4b3-46fd-9f9f-7c48b1b196d2    NaN\n",
       "2  2320fd15-7b8d-4f1b-844e-d7716b6e8970    NaN\n",
       "3  53fd6b84-3d16-4282-a4dc-2981250ea2de    NaN\n",
       "4  a2302e13-7a77-4091-81e5-701f959100ac    NaN"
      ]
     },
     "metadata": {},
     "output_type": "display_data"
    },
    {
     "data": {
      "text/plain": [
       "(60000, 2)"
      ]
     },
     "metadata": {},
     "output_type": "display_data"
    },
    {
     "data": {
      "text/plain": [
       "customer_id     object\n",
       "dummy          float64\n",
       "dtype: object"
      ]
     },
     "metadata": {},
     "output_type": "display_data"
    }
   ],
   "source": [
    "import pandas as pd\n",
    "\n",
    "customers = pd.read_csv(\"../data/clean/customers_for_import.csv\")\n",
    "\n",
    "display(customers.head())\n",
    "display(customers.shape)\n",
    "display(customers.dtypes)\n",
    "\n",
    "# dummy column adds comma to the one original column to import better."
   ]
  },
  {
   "cell_type": "markdown",
   "id": "582b2a9a-0d96-4798-8a2c-6389c6d75f35",
   "metadata": {},
   "source": [
    "# agents"
   ]
  },
  {
   "cell_type": "code",
   "execution_count": 15,
   "id": "eb1a2799-5352-489c-80ad-8e6ce7836751",
   "metadata": {},
   "outputs": [
    {
     "data": {
      "text/html": [
       "<div>\n",
       "<style scoped>\n",
       "    .dataframe tbody tr th:only-of-type {\n",
       "        vertical-align: middle;\n",
       "    }\n",
       "\n",
       "    .dataframe tbody tr th {\n",
       "        vertical-align: top;\n",
       "    }\n",
       "\n",
       "    .dataframe thead th {\n",
       "        text-align: right;\n",
       "    }\n",
       "</style>\n",
       "<table border=\"1\" class=\"dataframe\">\n",
       "  <thead>\n",
       "    <tr style=\"text-align: right;\">\n",
       "      <th></th>\n",
       "      <th>agent_id</th>\n",
       "      <th>first_name</th>\n",
       "      <th>last_name</th>\n",
       "      <th>agent_type</th>\n",
       "      <th>email</th>\n",
       "      <th>phone_number</th>\n",
       "      <th>department</th>\n",
       "      <th>dummy</th>\n",
       "    </tr>\n",
       "  </thead>\n",
       "  <tbody>\n",
       "    <tr>\n",
       "      <th>0</th>\n",
       "      <td>e4e90091-6c3c-44e8-89c1-c2a6ab851b15</td>\n",
       "      <td>Christine</td>\n",
       "      <td>Arnold</td>\n",
       "      <td>FT</td>\n",
       "      <td>emma68@example.net</td>\n",
       "      <td>847 679 2854</td>\n",
       "      <td>Sales</td>\n",
       "      <td>NaN</td>\n",
       "    </tr>\n",
       "    <tr>\n",
       "      <th>1</th>\n",
       "      <td>3843d1ba-0fe8-43c4-95db-85431f587140</td>\n",
       "      <td>Sarah</td>\n",
       "      <td>Chase</td>\n",
       "      <td>FT</td>\n",
       "      <td>angelaanderson@example.com</td>\n",
       "      <td>500 667 3317</td>\n",
       "      <td>Technical</td>\n",
       "      <td>NaN</td>\n",
       "    </tr>\n",
       "    <tr>\n",
       "      <th>2</th>\n",
       "      <td>c72bc976-4e21-42d3-a344-df2d2176b1dc</td>\n",
       "      <td>Damon</td>\n",
       "      <td>Smith</td>\n",
       "      <td>FT</td>\n",
       "      <td>hbrady@example.org</td>\n",
       "      <td>854 256 7120</td>\n",
       "      <td>Sales</td>\n",
       "      <td>NaN</td>\n",
       "    </tr>\n",
       "    <tr>\n",
       "      <th>3</th>\n",
       "      <td>e6cacfb3-112a-42fa-97d2-29ddc67b9759</td>\n",
       "      <td>Mary</td>\n",
       "      <td>Simon</td>\n",
       "      <td>C</td>\n",
       "      <td>qparker@example.net</td>\n",
       "      <td>254 469 9283</td>\n",
       "      <td>Support</td>\n",
       "      <td>NaN</td>\n",
       "    </tr>\n",
       "    <tr>\n",
       "      <th>4</th>\n",
       "      <td>2acb7771-9ea7-4d53-9f8d-d3b24863b4cb</td>\n",
       "      <td>James</td>\n",
       "      <td>Moore</td>\n",
       "      <td>PT</td>\n",
       "      <td>silvadenise@example.net</td>\n",
       "      <td>466 446 1426</td>\n",
       "      <td>Sales</td>\n",
       "      <td>NaN</td>\n",
       "    </tr>\n",
       "  </tbody>\n",
       "</table>\n",
       "</div>"
      ],
      "text/plain": [
       "                               agent_id first_name last_name agent_type  \\\n",
       "0  e4e90091-6c3c-44e8-89c1-c2a6ab851b15  Christine    Arnold         FT   \n",
       "1  3843d1ba-0fe8-43c4-95db-85431f587140      Sarah     Chase         FT   \n",
       "2  c72bc976-4e21-42d3-a344-df2d2176b1dc      Damon     Smith         FT   \n",
       "3  e6cacfb3-112a-42fa-97d2-29ddc67b9759       Mary     Simon          C   \n",
       "4  2acb7771-9ea7-4d53-9f8d-d3b24863b4cb      James     Moore         PT   \n",
       "\n",
       "                        email  phone_number department  dummy  \n",
       "0          emma68@example.net  847 679 2854      Sales    NaN  \n",
       "1  angelaanderson@example.com  500 667 3317  Technical    NaN  \n",
       "2          hbrady@example.org  854 256 7120      Sales    NaN  \n",
       "3         qparker@example.net  254 469 9283    Support    NaN  \n",
       "4     silvadenise@example.net  466 446 1426      Sales    NaN  "
      ]
     },
     "metadata": {},
     "output_type": "display_data"
    },
    {
     "data": {
      "text/plain": [
       "(200, 8)"
      ]
     },
     "metadata": {},
     "output_type": "display_data"
    },
    {
     "data": {
      "text/plain": [
       "agent_id         object\n",
       "first_name       object\n",
       "last_name        object\n",
       "agent_type       object\n",
       "email            object\n",
       "phone_number     object\n",
       "department       object\n",
       "dummy           float64\n",
       "dtype: object"
      ]
     },
     "metadata": {},
     "output_type": "display_data"
    }
   ],
   "source": [
    "import pandas as pd\n",
    "\n",
    "agents = pd.read_csv(\"../data/clean/agents.csv\")\n",
    "\n",
    "display(agents.head())\n",
    "display(agents.shape)\n",
    "display(agents.dtypes)"
   ]
  },
  {
   "cell_type": "markdown",
   "id": "50f5d100-a544-4adc-ad87-ebde8b60ffd8",
   "metadata": {},
   "source": [
    "# calls"
   ]
  },
  {
   "cell_type": "code",
   "execution_count": 6,
   "id": "b5c9cc52-8328-40ad-8480-775038a249e7",
   "metadata": {},
   "outputs": [
    {
     "data": {
      "text/html": [
       "<div>\n",
       "<style scoped>\n",
       "    .dataframe tbody tr th:only-of-type {\n",
       "        vertical-align: middle;\n",
       "    }\n",
       "\n",
       "    .dataframe tbody tr th {\n",
       "        vertical-align: top;\n",
       "    }\n",
       "\n",
       "    .dataframe thead th {\n",
       "        text-align: right;\n",
       "    }\n",
       "</style>\n",
       "<table border=\"1\" class=\"dataframe\">\n",
       "  <thead>\n",
       "    <tr style=\"text-align: right;\">\n",
       "      <th></th>\n",
       "      <th>call_id</th>\n",
       "      <th>customer_id</th>\n",
       "      <th>agent_id</th>\n",
       "      <th>call_duration</th>\n",
       "      <th>call_type</th>\n",
       "      <th>issue</th>\n",
       "    </tr>\n",
       "  </thead>\n",
       "  <tbody>\n",
       "    <tr>\n",
       "      <th>0</th>\n",
       "      <td>accc2764-24d5-47fa-8601-23ac1d7d89f0</td>\n",
       "      <td>b584550c-641c-44d0-b308-25381125d9b9</td>\n",
       "      <td>8d6d9486-30e2-40bc-8939-cdee700eebf1</td>\n",
       "      <td>50</td>\n",
       "      <td>Inbound</td>\n",
       "      <td>Complaint</td>\n",
       "    </tr>\n",
       "    <tr>\n",
       "      <th>1</th>\n",
       "      <td>befb90c0-aac5-4c6c-89c4-14f57d2ac30b</td>\n",
       "      <td>1be4ea93-a4b3-46fd-9f9f-7c48b1b196d2</td>\n",
       "      <td>b1f7f5f1-f9b1-4f1b-8ad3-ad6b623c40c0</td>\n",
       "      <td>67</td>\n",
       "      <td>Outbound</td>\n",
       "      <td>Complaint</td>\n",
       "    </tr>\n",
       "    <tr>\n",
       "      <th>2</th>\n",
       "      <td>b14d22ea-c0dd-40b3-8d18-9c82f3770b40</td>\n",
       "      <td>2320fd15-7b8d-4f1b-844e-d7716b6e8970</td>\n",
       "      <td>031914a4-aeb6-43f5-972d-9c718e2369f6</td>\n",
       "      <td>108</td>\n",
       "      <td>Outbound</td>\n",
       "      <td>Complaint</td>\n",
       "    </tr>\n",
       "    <tr>\n",
       "      <th>3</th>\n",
       "      <td>174f0491-3428-4d6e-b45a-7687c2811343</td>\n",
       "      <td>53fd6b84-3d16-4282-a4dc-2981250ea2de</td>\n",
       "      <td>ab4e938f-0f23-4966-b6f6-9f7286cacd45</td>\n",
       "      <td>83</td>\n",
       "      <td>Inbound</td>\n",
       "      <td>Technical Support</td>\n",
       "    </tr>\n",
       "    <tr>\n",
       "      <th>4</th>\n",
       "      <td>bcf0583e-a8e4-4ca6-8a69-b682d69ddd76</td>\n",
       "      <td>a2302e13-7a77-4091-81e5-701f959100ac</td>\n",
       "      <td>a47025c9-13bb-4e82-a5f9-5344b0e51c40</td>\n",
       "      <td>29</td>\n",
       "      <td>Inbound</td>\n",
       "      <td>Technical Support</td>\n",
       "    </tr>\n",
       "  </tbody>\n",
       "</table>\n",
       "</div>"
      ],
      "text/plain": [
       "                                call_id                           customer_id  \\\n",
       "0  accc2764-24d5-47fa-8601-23ac1d7d89f0  b584550c-641c-44d0-b308-25381125d9b9   \n",
       "1  befb90c0-aac5-4c6c-89c4-14f57d2ac30b  1be4ea93-a4b3-46fd-9f9f-7c48b1b196d2   \n",
       "2  b14d22ea-c0dd-40b3-8d18-9c82f3770b40  2320fd15-7b8d-4f1b-844e-d7716b6e8970   \n",
       "3  174f0491-3428-4d6e-b45a-7687c2811343  53fd6b84-3d16-4282-a4dc-2981250ea2de   \n",
       "4  bcf0583e-a8e4-4ca6-8a69-b682d69ddd76  a2302e13-7a77-4091-81e5-701f959100ac   \n",
       "\n",
       "                               agent_id  call_duration call_type  \\\n",
       "0  8d6d9486-30e2-40bc-8939-cdee700eebf1             50   Inbound   \n",
       "1  b1f7f5f1-f9b1-4f1b-8ad3-ad6b623c40c0             67  Outbound   \n",
       "2  031914a4-aeb6-43f5-972d-9c718e2369f6            108  Outbound   \n",
       "3  ab4e938f-0f23-4966-b6f6-9f7286cacd45             83   Inbound   \n",
       "4  a47025c9-13bb-4e82-a5f9-5344b0e51c40             29   Inbound   \n",
       "\n",
       "               issue  \n",
       "0          Complaint  \n",
       "1          Complaint  \n",
       "2          Complaint  \n",
       "3  Technical Support  \n",
       "4  Technical Support  "
      ]
     },
     "metadata": {},
     "output_type": "display_data"
    },
    {
     "data": {
      "text/plain": [
       "(50000, 6)"
      ]
     },
     "metadata": {},
     "output_type": "display_data"
    },
    {
     "data": {
      "text/plain": [
       "call_id          object\n",
       "customer_id      object\n",
       "agent_id         object\n",
       "call_duration     int64\n",
       "call_type        object\n",
       "issue            object\n",
       "dtype: object"
      ]
     },
     "metadata": {},
     "output_type": "display_data"
    }
   ],
   "source": [
    "import pandas as pd\n",
    "\n",
    "calls = pd.read_csv(\"../data/clean/calls.csv\")\n",
    "\n",
    "display(calls.head())\n",
    "display(calls.shape)\n",
    "display(calls.dtypes)"
   ]
  },
  {
   "cell_type": "code",
   "execution_count": 20,
   "id": "4aeae6b8-50be-44cc-b9f9-38a9b3c86748",
   "metadata": {},
   "outputs": [
    {
     "name": "stdout",
     "output_type": "stream",
     "text": [
      "Invalid agent_ids in calls DataFrame:\n",
      "0        8d6d9486-30e2-40bc-8939-cdee700eebf1\n",
      "1        b1f7f5f1-f9b1-4f1b-8ad3-ad6b623c40c0\n",
      "2        031914a4-aeb6-43f5-972d-9c718e2369f6\n",
      "3        ab4e938f-0f23-4966-b6f6-9f7286cacd45\n",
      "4        a47025c9-13bb-4e82-a5f9-5344b0e51c40\n",
      "                         ...                 \n",
      "49995    05a106e6-01a7-4d57-8182-590e89452858\n",
      "49996    59d8cc71-5d1f-4bad-87ab-b5f7464ae1a2\n",
      "49997    5d8ba4d7-f5d7-45ce-bb04-0cb2ed5464d6\n",
      "49998    b8eded43-c5a3-4a14-a8de-4af5b1b1accd\n",
      "49999    698a0031-266d-4662-8b2b-168a91519e14\n",
      "Name: agent_id, Length: 50000, dtype: object\n",
      "                                call_id                           customer_id  \\\n",
      "0  accc2764-24d5-47fa-8601-23ac1d7d89f0  b584550c-641c-44d0-b308-25381125d9b9   \n",
      "1  befb90c0-aac5-4c6c-89c4-14f57d2ac30b  1be4ea93-a4b3-46fd-9f9f-7c48b1b196d2   \n",
      "2  b14d22ea-c0dd-40b3-8d18-9c82f3770b40  2320fd15-7b8d-4f1b-844e-d7716b6e8970   \n",
      "3  174f0491-3428-4d6e-b45a-7687c2811343  53fd6b84-3d16-4282-a4dc-2981250ea2de   \n",
      "4  bcf0583e-a8e4-4ca6-8a69-b682d69ddd76  a2302e13-7a77-4091-81e5-701f959100ac   \n",
      "\n",
      "                               agent_id  call_duration call_type  \\\n",
      "0  966d5b90-ed4b-47a1-b6b9-9bad9162d6fe             50   Inbound   \n",
      "1  1be01460-850c-4608-9a30-49158364609e             67  Outbound   \n",
      "2  8acc0156-1faa-469b-ad22-98f6e92939b0            108  Outbound   \n",
      "3  b88dc33d-e1f8-4af4-8c9b-21a2d0eb3d06             83   Inbound   \n",
      "4  a897e3ca-28e4-4866-ac84-d753b0e14f6f             29   Inbound   \n",
      "\n",
      "               issue  \n",
      "0          Complaint  \n",
      "1          Complaint  \n",
      "2          Complaint  \n",
      "3  Technical Support  \n",
      "4  Technical Support  \n"
     ]
    }
   ],
   "source": [
    "import pandas as pd\n",
    "import numpy as np\n",
    "\n",
    "agents = pd.read_csv(\"../data/clean/agents.csv\")\n",
    "calls = pd.read_csv(\"../data/clean/calls.csv\")\n",
    "\n",
    "# Get valid agent_id's\n",
    "valid_agent_ids = agents['agent_id'].tolist()\n",
    "\n",
    "# Identify invalid agent_ids in the calls DataFrame which were not in agents\n",
    "invalid_agent_ids = calls[~calls['agent_id'].isin(valid_agent_ids)]['agent_id'].drop_duplicates()\n",
    "\n",
    "print(\"Invalid agent_ids in calls DataFrame:\")\n",
    "print(invalid_agent_ids)\n",
    "\n",
    "# Replace invalid agent_ids with a valid agent_id from the agents table --> to ensure matches\n",
    "calls['agent_id'] = np.where(\n",
    "    calls['agent_id'].isin(valid_agent_ids),\n",
    "    calls['agent_id'],  # keep valid ids as is\n",
    "    np.random.choice(valid_agent_ids, size=len(calls))\n",
    ")\n",
    "\n",
    "print(calls.head())\n",
    "calls.to_csv(\"../data/clean/calls_fixed.csv\", index=False)"
   ]
  },
  {
   "cell_type": "code",
   "execution_count": 18,
   "id": "ee311d8b-8e4c-4822-8530-1c667e9335b6",
   "metadata": {},
   "outputs": [
    {
     "name": "stdout",
     "output_type": "stream",
     "text": [
      "Empty DataFrame\n",
      "Columns: [agent_id]\n",
      "Index: []\n"
     ]
    }
   ],
   "source": [
    "unmatched = calls[~calls['agent_id'].isin(agents['agent_id'])]\n",
    "print(unmatched[['agent_id']].drop_duplicates())\n"
   ]
  },
  {
   "cell_type": "code",
   "execution_count": 3,
   "id": "854cd515-ee77-4147-a293-820ee64720a9",
   "metadata": {},
   "outputs": [
    {
     "name": "stdout",
     "output_type": "stream",
     "text": [
      "   total_calls  1-30 min  31-60 min  61-90 min  91-120 min  120+ min\n",
      "0        50000     12487      12435      12551       12527         0\n"
     ]
    }
   ],
   "source": [
    "# TESTING SQL CODE.\n",
    "import pandas as pd\n",
    "\n",
    "calls = pd.read_csv(\"../data/clean/calls_fixed.csv\")\n",
    "\n",
    "# Are call_duration is numeric?\n",
    "calls['call_duration'] = pd.to_numeric(calls['call_duration'], errors='coerce')\n",
    "\n",
    "# bucket ranges for call durations\n",
    "total_calls = len(calls)\n",
    "range_1_30 = ((calls['call_duration'] >= 1) & (calls['call_duration'] <= 30)).sum()\n",
    "range_31_60 = ((calls['call_duration'] >= 31) & (calls['call_duration'] <= 60)).sum()\n",
    "range_61_90 = ((calls['call_duration'] >= 61) & (calls['call_duration'] <= 90)).sum()\n",
    "range_91_120 = ((calls['call_duration'] >= 91) & (calls['call_duration'] <= 120)).sum()\n",
    "range_120_plus = (calls['call_duration'] > 120).sum()\n",
    "\n",
    "summary = {\n",
    "    'total_calls': total_calls,\n",
    "    '1-30 min': range_1_30,\n",
    "    '31-60 min': range_31_60,\n",
    "    '61-90 min': range_61_90,\n",
    "    '91-120 min': range_91_120,\n",
    "    '120+ min': range_120_plus\n",
    "}\n",
    "\n",
    "summary_df = pd.DataFrame([summary])\n",
    "print(summary_df)\n",
    "\n"
   ]
  },
  {
   "cell_type": "code",
   "execution_count": 2,
   "id": "f27b1c86-d619-40c9-8c3e-5f4ba3d9f38e",
   "metadata": {},
   "outputs": [
    {
     "name": "stdout",
     "output_type": "stream",
     "text": [
      "Processed chunk 1/10\n",
      "Processed chunk 2/10\n",
      "Processed chunk 3/10\n",
      "Processed chunk 4/10\n",
      "Processed chunk 5/10\n",
      "Processed chunk 6/10\n",
      "Processed chunk 7/10\n",
      "Processed chunk 8/10\n",
      "Processed chunk 9/10\n",
      "Processed chunk 10/10\n"
     ]
    }
   ],
   "source": [
    "import pandas as pd\n",
    "\n",
    "calls = pd.read_csv(\"../data/clean/calls_fixed.csv\")\n",
    "\n",
    "# chunk size\n",
    "chunk_size = 5000\n",
    "\n",
    "# DataFrame chunks\n",
    "chunks = [calls[i:i + chunk_size] for i in range(0, len(calls), chunk_size)]\n",
    "\n",
    "# chunk proofing and saving\n",
    "for i, chunk in enumerate(chunks):\n",
    "    chunk.to_csv(f\"calls_chunk_{i}.csv\", index=False)\n",
    "    print(f\"Processed chunk {i + 1}/{len(chunks)}\")\n"
   ]
  },
  {
   "cell_type": "markdown",
   "id": "a702dc32-e4e2-4459-9a60-3578566a7171",
   "metadata": {},
   "source": [
    "# abandonments"
   ]
  },
  {
   "cell_type": "code",
   "execution_count": 7,
   "id": "bd57c6d3-abf7-4899-908c-1e19ba773e07",
   "metadata": {},
   "outputs": [
    {
     "data": {
      "text/html": [
       "<div>\n",
       "<style scoped>\n",
       "    .dataframe tbody tr th:only-of-type {\n",
       "        vertical-align: middle;\n",
       "    }\n",
       "\n",
       "    .dataframe tbody tr th {\n",
       "        vertical-align: top;\n",
       "    }\n",
       "\n",
       "    .dataframe thead th {\n",
       "        text-align: right;\n",
       "    }\n",
       "</style>\n",
       "<table border=\"1\" class=\"dataframe\">\n",
       "  <thead>\n",
       "    <tr style=\"text-align: right;\">\n",
       "      <th></th>\n",
       "      <th>call_id</th>\n",
       "      <th>customer_id</th>\n",
       "      <th>abandoned</th>\n",
       "      <th>abandonment_reason</th>\n",
       "      <th>call_duration_before_abandonment_(mins)</th>\n",
       "    </tr>\n",
       "  </thead>\n",
       "  <tbody>\n",
       "    <tr>\n",
       "      <th>0</th>\n",
       "      <td>6a46e92d-eea1-4b73-8280-e984be9062f2</td>\n",
       "      <td>67fceb4d-9979-458d-83d7-278bb72071a1</td>\n",
       "      <td>False</td>\n",
       "      <td>NaN</td>\n",
       "      <td>NaN</td>\n",
       "    </tr>\n",
       "    <tr>\n",
       "      <th>1</th>\n",
       "      <td>9f7701fa-e09c-492d-ad17-965d3f78d7cf</td>\n",
       "      <td>b0b60b98-c26b-4762-ab03-9cd12686a342</td>\n",
       "      <td>False</td>\n",
       "      <td>NaN</td>\n",
       "      <td>NaN</td>\n",
       "    </tr>\n",
       "    <tr>\n",
       "      <th>2</th>\n",
       "      <td>dc2f1429-8426-4adc-b2f6-a8c71936ac06</td>\n",
       "      <td>44eeb102-aa03-4409-bc45-d5167b02108a</td>\n",
       "      <td>True</td>\n",
       "      <td>Answered by Wrong Department</td>\n",
       "      <td>8.0</td>\n",
       "    </tr>\n",
       "    <tr>\n",
       "      <th>3</th>\n",
       "      <td>c33d4e40-43ea-48b7-a993-0963f4c51cf5</td>\n",
       "      <td>be62532a-b9d7-49a4-9592-ef3e2dffa42b</td>\n",
       "      <td>False</td>\n",
       "      <td>NaN</td>\n",
       "      <td>NaN</td>\n",
       "    </tr>\n",
       "    <tr>\n",
       "      <th>4</th>\n",
       "      <td>81b1bc42-ab35-4579-94c3-c5d732ef680a</td>\n",
       "      <td>f1bca76b-4a97-49ac-b51d-51ce2e861877</td>\n",
       "      <td>True</td>\n",
       "      <td>Long Wait Time</td>\n",
       "      <td>NaN</td>\n",
       "    </tr>\n",
       "  </tbody>\n",
       "</table>\n",
       "</div>"
      ],
      "text/plain": [
       "                                call_id                           customer_id  \\\n",
       "0  6a46e92d-eea1-4b73-8280-e984be9062f2  67fceb4d-9979-458d-83d7-278bb72071a1   \n",
       "1  9f7701fa-e09c-492d-ad17-965d3f78d7cf  b0b60b98-c26b-4762-ab03-9cd12686a342   \n",
       "2  dc2f1429-8426-4adc-b2f6-a8c71936ac06  44eeb102-aa03-4409-bc45-d5167b02108a   \n",
       "3  c33d4e40-43ea-48b7-a993-0963f4c51cf5  be62532a-b9d7-49a4-9592-ef3e2dffa42b   \n",
       "4  81b1bc42-ab35-4579-94c3-c5d732ef680a  f1bca76b-4a97-49ac-b51d-51ce2e861877   \n",
       "\n",
       "   abandoned            abandonment_reason  \\\n",
       "0      False                           NaN   \n",
       "1      False                           NaN   \n",
       "2       True  Answered by Wrong Department   \n",
       "3      False                           NaN   \n",
       "4       True                Long Wait Time   \n",
       "\n",
       "   call_duration_before_abandonment_(mins)  \n",
       "0                                      NaN  \n",
       "1                                      NaN  \n",
       "2                                      8.0  \n",
       "3                                      NaN  \n",
       "4                                      NaN  "
      ]
     },
     "metadata": {},
     "output_type": "display_data"
    },
    {
     "data": {
      "text/plain": [
       "(5000, 5)"
      ]
     },
     "metadata": {},
     "output_type": "display_data"
    },
    {
     "data": {
      "text/plain": [
       "call_id                                     object\n",
       "customer_id                                 object\n",
       "abandoned                                     bool\n",
       "abandonment_reason                          object\n",
       "call_duration_before_abandonment_(mins)    float64\n",
       "dtype: object"
      ]
     },
     "metadata": {},
     "output_type": "display_data"
    }
   ],
   "source": [
    "import pandas as pd\n",
    "\n",
    "abandonments = pd.read_csv(\"../data/clean/call_abandonment.csv\")\n",
    "\n",
    "display(abandonments.head())\n",
    "display(abandonments.shape)\n",
    "display(abandonments.dtypes)"
   ]
  },
  {
   "cell_type": "code",
   "execution_count": 9,
   "id": "0bb151c7-7b5e-4509-a18e-94916a8bac9c",
   "metadata": {},
   "outputs": [
    {
     "data": {
      "text/plain": [
       "np.int64(2446)"
      ]
     },
     "execution_count": 9,
     "metadata": {},
     "output_type": "execute_result"
    }
   ],
   "source": [
    "abandonments['abandoned'].sum()\n",
    "# counts how many calls were abandoned."
   ]
  },
  {
   "cell_type": "code",
   "execution_count": 1,
   "id": "d02fe05a-c20f-48ce-87a4-6d9791daf85b",
   "metadata": {},
   "outputs": [
    {
     "name": "stdout",
     "output_type": "stream",
     "text": [
      "Matched rows: 0\n",
      "Unmatched abandonment records:\n",
      "                                   call_id  \\\n",
      "0     6a46e92d-eea1-4b73-8280-e984be9062f2   \n",
      "1     9f7701fa-e09c-492d-ad17-965d3f78d7cf   \n",
      "2     dc2f1429-8426-4adc-b2f6-a8c71936ac06   \n",
      "3     c33d4e40-43ea-48b7-a993-0963f4c51cf5   \n",
      "4     81b1bc42-ab35-4579-94c3-c5d732ef680a   \n",
      "...                                    ...   \n",
      "4995  4f99da29-1164-4e3a-8784-de9977418851   \n",
      "4996  7e9cd902-d7e2-4a7a-b026-c02de6a4343a   \n",
      "4997  33dde189-8b23-441f-95ed-7d5528ecfc8c   \n",
      "4998  7c3aefc7-6358-4356-a236-a4fa6b241800   \n",
      "4999  f75ab3df-d18d-46c6-94c4-c94a7ff49f94   \n",
      "\n",
      "                               customer_id  abandoned  \\\n",
      "0     67fceb4d-9979-458d-83d7-278bb72071a1      False   \n",
      "1     b0b60b98-c26b-4762-ab03-9cd12686a342      False   \n",
      "2     44eeb102-aa03-4409-bc45-d5167b02108a       True   \n",
      "3     be62532a-b9d7-49a4-9592-ef3e2dffa42b      False   \n",
      "4     f1bca76b-4a97-49ac-b51d-51ce2e861877       True   \n",
      "...                                    ...        ...   \n",
      "4995  da731412-86ed-4605-97ac-678346abccb7      False   \n",
      "4996  48092333-f137-4802-a622-eb3eafec65de      False   \n",
      "4997  8c6691e8-2a08-46cd-817b-013504a9b4e7      False   \n",
      "4998  ec25e604-b8e9-4e29-9848-b8c49dd2648d       True   \n",
      "4999  4d7cc073-4d1a-4431-aad0-4d06254c722f       True   \n",
      "\n",
      "                abandonment_reason  call_duration_before_abandonment_(mins)  \n",
      "0                              NaN                                      NaN  \n",
      "1                              NaN                                      NaN  \n",
      "2     Answered by Wrong Department                                      8.0  \n",
      "3                              NaN                                      NaN  \n",
      "4                   Long Wait Time                                      NaN  \n",
      "...                            ...                                      ...  \n",
      "4995                           NaN                                      NaN  \n",
      "4996                           NaN                                      NaN  \n",
      "4997                           NaN                                      NaN  \n",
      "4998                Long Wait Time                                      NaN  \n",
      "4999  Answered by Wrong Department                                      9.0  \n",
      "\n",
      "[5000 rows x 5 columns]\n"
     ]
    }
   ],
   "source": [
    "import pandas as pd\n",
    "\n",
    "abandonments = pd.read_csv(\"../data/clean/call_abandonment.csv\")\n",
    "calls = pd.read_csv(\"../data/clean/calls_fixed.csv\")\n",
    "\n",
    "# check if there matches between call_id and customer_id in both datasets\n",
    "matched = abandonments.merge(calls, on=['call_id', 'customer_id'], how='inner')\n",
    "\n",
    "# count matched records\n",
    "print(f\"Matched rows: {len(matched)}\")\n",
    "\n",
    "# check for no matches\n",
    "unmatched_abandonments = abandonments[~abandonments['call_id'].isin(calls['call_id']) | ~abandonments['customer_id'].isin(calls['customer_id'])]\n",
    "\n",
    "print(f\"Unmatched abandonment records:\\n{unmatched_abandonments}\")"
   ]
  },
  {
   "cell_type": "code",
   "execution_count": 2,
   "id": "f26604ff-bddd-4aa2-8626-aca96585791d",
   "metadata": {},
   "outputs": [
    {
     "name": "stdout",
     "output_type": "stream",
     "text": [
      "✅ Fixed call_abandonment.csv — all IDs now match calls_fixed.csv.\n"
     ]
    }
   ],
   "source": [
    "import pandas as pd\n",
    "import numpy as np\n",
    "\n",
    "abandonments = pd.read_csv(\"../data/clean/call_abandonment.csv\")\n",
    "calls = pd.read_csv(\"../data/clean/calls_fixed.csv\")\n",
    "\n",
    "# match valid call_id and customer_id pairs\n",
    "valid_pairs = calls[['call_id', 'customer_id']].dropna()\n",
    "\n",
    "# proof valid pair amounts\n",
    "sampled_pairs = valid_pairs.sample(n=len(abandonments), replace=True).reset_index(drop=True)\n",
    "\n",
    "# rename call_id and customer_id to abandonments\n",
    "abandonments['call_id'] = sampled_pairs['call_id']\n",
    "abandonments['customer_id'] = sampled_pairs['customer_id']\n",
    "\n",
    "abandonments.to_csv(\"../data/clean/call_abandonment_fixed.csv\", index=False)\n",
    "print(\"✅ Fixed call_abandonment.csv — all IDs now match calls_fixed.csv.\")"
   ]
  },
  {
   "cell_type": "code",
   "execution_count": 14,
   "id": "8ff1c61e-efe3-469f-9db7-018fb2dec8ad",
   "metadata": {},
   "outputs": [
    {
     "data": {
      "text/html": [
       "<div>\n",
       "<style scoped>\n",
       "    .dataframe tbody tr th:only-of-type {\n",
       "        vertical-align: middle;\n",
       "    }\n",
       "\n",
       "    .dataframe tbody tr th {\n",
       "        vertical-align: top;\n",
       "    }\n",
       "\n",
       "    .dataframe thead th {\n",
       "        text-align: right;\n",
       "    }\n",
       "</style>\n",
       "<table border=\"1\" class=\"dataframe\">\n",
       "  <thead>\n",
       "    <tr style=\"text-align: right;\">\n",
       "      <th></th>\n",
       "      <th>call_id</th>\n",
       "      <th>customer_id</th>\n",
       "      <th>abandoned</th>\n",
       "      <th>abandonment_reason</th>\n",
       "      <th>call_duration_before_abandonment_(mins)</th>\n",
       "    </tr>\n",
       "  </thead>\n",
       "  <tbody>\n",
       "    <tr>\n",
       "      <th>0</th>\n",
       "      <td>ca314cb3-4015-434e-a993-453fc849a30e</td>\n",
       "      <td>787c613f-d93f-491d-898c-83df7d771a59</td>\n",
       "      <td>False</td>\n",
       "      <td>NaN</td>\n",
       "      <td>NaN</td>\n",
       "    </tr>\n",
       "    <tr>\n",
       "      <th>1</th>\n",
       "      <td>ebb66183-a524-4ce1-bb42-2038ef5796d6</td>\n",
       "      <td>16c22efd-b32e-4fad-9c54-2cac00ad19dd</td>\n",
       "      <td>False</td>\n",
       "      <td>NaN</td>\n",
       "      <td>NaN</td>\n",
       "    </tr>\n",
       "    <tr>\n",
       "      <th>2</th>\n",
       "      <td>8b308588-8664-429e-a335-b19a92b59fbb</td>\n",
       "      <td>871aa6e5-2972-4c0a-a81d-2db4d5fca476</td>\n",
       "      <td>True</td>\n",
       "      <td>Answered by Wrong Department</td>\n",
       "      <td>8.0</td>\n",
       "    </tr>\n",
       "    <tr>\n",
       "      <th>3</th>\n",
       "      <td>40195bd2-b9d9-4871-8a4c-b19f0d6db003</td>\n",
       "      <td>f999ff6f-0975-4bfa-85e5-0d22e521c918</td>\n",
       "      <td>False</td>\n",
       "      <td>NaN</td>\n",
       "      <td>NaN</td>\n",
       "    </tr>\n",
       "    <tr>\n",
       "      <th>4</th>\n",
       "      <td>98f6a8f0-0f57-492e-93e6-f9cba1651343</td>\n",
       "      <td>4a422eef-90de-4a1e-b840-10bb25d4f2cb</td>\n",
       "      <td>True</td>\n",
       "      <td>Long Wait Time</td>\n",
       "      <td>NaN</td>\n",
       "    </tr>\n",
       "  </tbody>\n",
       "</table>\n",
       "</div>"
      ],
      "text/plain": [
       "                                call_id                           customer_id  \\\n",
       "0  ca314cb3-4015-434e-a993-453fc849a30e  787c613f-d93f-491d-898c-83df7d771a59   \n",
       "1  ebb66183-a524-4ce1-bb42-2038ef5796d6  16c22efd-b32e-4fad-9c54-2cac00ad19dd   \n",
       "2  8b308588-8664-429e-a335-b19a92b59fbb  871aa6e5-2972-4c0a-a81d-2db4d5fca476   \n",
       "3  40195bd2-b9d9-4871-8a4c-b19f0d6db003  f999ff6f-0975-4bfa-85e5-0d22e521c918   \n",
       "4  98f6a8f0-0f57-492e-93e6-f9cba1651343  4a422eef-90de-4a1e-b840-10bb25d4f2cb   \n",
       "\n",
       "   abandoned            abandonment_reason  \\\n",
       "0      False                           NaN   \n",
       "1      False                           NaN   \n",
       "2       True  Answered by Wrong Department   \n",
       "3      False                           NaN   \n",
       "4       True                Long Wait Time   \n",
       "\n",
       "   call_duration_before_abandonment_(mins)  \n",
       "0                                      NaN  \n",
       "1                                      NaN  \n",
       "2                                      8.0  \n",
       "3                                      NaN  \n",
       "4                                      NaN  "
      ]
     },
     "metadata": {},
     "output_type": "display_data"
    },
    {
     "name": "stdout",
     "output_type": "stream",
     "text": [
      "<class 'pandas.core.frame.DataFrame'>\n",
      "RangeIndex: 5000 entries, 0 to 4999\n",
      "Data columns (total 5 columns):\n",
      " #   Column                                   Non-Null Count  Dtype  \n",
      "---  ------                                   --------------  -----  \n",
      " 0   call_id                                  5000 non-null   object \n",
      " 1   customer_id                              5000 non-null   object \n",
      " 2   abandoned                                5000 non-null   bool   \n",
      " 3   abandonment_reason                       2446 non-null   object \n",
      " 4   call_duration_before_abandonment_(mins)  1219 non-null   float64\n",
      "dtypes: bool(1), float64(1), object(3)\n",
      "memory usage: 161.3+ KB\n"
     ]
    },
    {
     "data": {
      "text/plain": [
       "None"
      ]
     },
     "metadata": {},
     "output_type": "display_data"
    }
   ],
   "source": [
    "abandonments_fixed = pd.read_csv(\"../data/clean/call_abandonment_fixed.csv\")\n",
    "display(abandonments_fixed.head())\n",
    "display(abandonments_fixed.info())"
   ]
  },
  {
   "cell_type": "code",
   "execution_count": 22,
   "id": "b92e0384-d114-4cc6-a022-818322fae348",
   "metadata": {
    "scrolled": true
   },
   "outputs": [
    {
     "data": {
      "text/html": [
       "<div>\n",
       "<style scoped>\n",
       "    .dataframe tbody tr th:only-of-type {\n",
       "        vertical-align: middle;\n",
       "    }\n",
       "\n",
       "    .dataframe tbody tr th {\n",
       "        vertical-align: top;\n",
       "    }\n",
       "\n",
       "    .dataframe thead th {\n",
       "        text-align: right;\n",
       "    }\n",
       "</style>\n",
       "<table border=\"1\" class=\"dataframe\">\n",
       "  <thead>\n",
       "    <tr style=\"text-align: right;\">\n",
       "      <th></th>\n",
       "      <th>call_id</th>\n",
       "      <th>customer_id</th>\n",
       "      <th>abandoned</th>\n",
       "      <th>abandonment_reason</th>\n",
       "      <th>call_duration_before_abandonment_(mins)</th>\n",
       "    </tr>\n",
       "  </thead>\n",
       "  <tbody>\n",
       "    <tr>\n",
       "      <th>0</th>\n",
       "      <td>ca314cb3-4015-434e-a993-453fc849a30e</td>\n",
       "      <td>787c613f-d93f-491d-898c-83df7d771a59</td>\n",
       "      <td>False</td>\n",
       "      <td>NaN</td>\n",
       "      <td>0</td>\n",
       "    </tr>\n",
       "    <tr>\n",
       "      <th>1</th>\n",
       "      <td>ebb66183-a524-4ce1-bb42-2038ef5796d6</td>\n",
       "      <td>16c22efd-b32e-4fad-9c54-2cac00ad19dd</td>\n",
       "      <td>False</td>\n",
       "      <td>NaN</td>\n",
       "      <td>0</td>\n",
       "    </tr>\n",
       "    <tr>\n",
       "      <th>2</th>\n",
       "      <td>8b308588-8664-429e-a335-b19a92b59fbb</td>\n",
       "      <td>871aa6e5-2972-4c0a-a81d-2db4d5fca476</td>\n",
       "      <td>True</td>\n",
       "      <td>Answered by Wrong Department</td>\n",
       "      <td>8</td>\n",
       "    </tr>\n",
       "    <tr>\n",
       "      <th>3</th>\n",
       "      <td>40195bd2-b9d9-4871-8a4c-b19f0d6db003</td>\n",
       "      <td>f999ff6f-0975-4bfa-85e5-0d22e521c918</td>\n",
       "      <td>False</td>\n",
       "      <td>NaN</td>\n",
       "      <td>0</td>\n",
       "    </tr>\n",
       "    <tr>\n",
       "      <th>4</th>\n",
       "      <td>98f6a8f0-0f57-492e-93e6-f9cba1651343</td>\n",
       "      <td>4a422eef-90de-4a1e-b840-10bb25d4f2cb</td>\n",
       "      <td>True</td>\n",
       "      <td>Long Wait Time</td>\n",
       "      <td>0</td>\n",
       "    </tr>\n",
       "  </tbody>\n",
       "</table>\n",
       "</div>"
      ],
      "text/plain": [
       "                                call_id                           customer_id  \\\n",
       "0  ca314cb3-4015-434e-a993-453fc849a30e  787c613f-d93f-491d-898c-83df7d771a59   \n",
       "1  ebb66183-a524-4ce1-bb42-2038ef5796d6  16c22efd-b32e-4fad-9c54-2cac00ad19dd   \n",
       "2  8b308588-8664-429e-a335-b19a92b59fbb  871aa6e5-2972-4c0a-a81d-2db4d5fca476   \n",
       "3  40195bd2-b9d9-4871-8a4c-b19f0d6db003  f999ff6f-0975-4bfa-85e5-0d22e521c918   \n",
       "4  98f6a8f0-0f57-492e-93e6-f9cba1651343  4a422eef-90de-4a1e-b840-10bb25d4f2cb   \n",
       "\n",
       "  abandoned            abandonment_reason  \\\n",
       "0     False                           NaN   \n",
       "1     False                           NaN   \n",
       "2      True  Answered by Wrong Department   \n",
       "3     False                           NaN   \n",
       "4      True                Long Wait Time   \n",
       "\n",
       "   call_duration_before_abandonment_(mins)  \n",
       "0                                        0  \n",
       "1                                        0  \n",
       "2                                        8  \n",
       "3                                        0  \n",
       "4                                        0  "
      ]
     },
     "metadata": {},
     "output_type": "display_data"
    },
    {
     "name": "stdout",
     "output_type": "stream",
     "text": [
      "<class 'pandas.core.frame.DataFrame'>\n",
      "RangeIndex: 5000 entries, 0 to 4999\n",
      "Data columns (total 5 columns):\n",
      " #   Column                                   Non-Null Count  Dtype \n",
      "---  ------                                   --------------  ----- \n",
      " 0   call_id                                  5000 non-null   object\n",
      " 1   customer_id                              5000 non-null   object\n",
      " 2   abandoned                                5000 non-null   object\n",
      " 3   abandonment_reason                       2446 non-null   object\n",
      " 4   call_duration_before_abandonment_(mins)  5000 non-null   int64 \n",
      "dtypes: int64(1), object(4)\n",
      "memory usage: 195.4+ KB\n"
     ]
    },
    {
     "data": {
      "text/plain": [
       "None"
      ]
     },
     "metadata": {},
     "output_type": "display_data"
    }
   ],
   "source": [
    "import pandas as pd\n",
    "\n",
    "abandonments = pd.read_csv(\"../data/clean/call_abandonment_fixed.csv\")\n",
    "\n",
    "# 'call_duration_before_abandonment_(mins)' convert to integers and handle NaN values\n",
    "abandonments['call_duration_before_abandonment_(mins)'] = abandonments['call_duration_before_abandonment_(mins)'].apply(pd.to_numeric, errors='coerce')\n",
    "abandonments['call_duration_before_abandonment_(mins)'] = abandonments['call_duration_before_abandonment_(mins)'].fillna(0)  # Change NaN to 0\n",
    "abandonments['call_duration_before_abandonment_(mins)'] = abandonments['call_duration_before_abandonment_(mins)'].apply(lambda x: round(x) if pd.notna(x) else 0)\n",
    "\n",
    "# proof 'abandoned' column is of type string in \"True\" or \"False\"\n",
    "abandonments['abandoned'] = abandonments['abandoned'].apply(lambda x: 'True' if x else 'False')\n",
    "\n",
    "abandonments.to_csv(\"../data/clean/call_abandonment_fixed_2.csv\", index=False)\n",
    "\n",
    "display(abandonments.head())\n",
    "display(abandonments.info())"
   ]
  },
  {
   "cell_type": "code",
   "execution_count": 21,
   "id": "5ff115d5-3a52-41da-bcf8-4c244c1fb343",
   "metadata": {},
   "outputs": [
    {
     "name": "stdout",
     "output_type": "stream",
     "text": [
      "['False' 'True']\n"
     ]
    }
   ],
   "source": [
    "print(abandonments['abandoned'].unique())"
   ]
  },
  {
   "cell_type": "markdown",
   "id": "976f5689-6896-4488-92a7-b8ce52d66528",
   "metadata": {},
   "source": [
    "# escalations"
   ]
  },
  {
   "cell_type": "code",
   "execution_count": 10,
   "id": "5097f85c-87d3-422e-83ed-a12dae5f407c",
   "metadata": {},
   "outputs": [
    {
     "data": {
      "text/html": [
       "<div>\n",
       "<style scoped>\n",
       "    .dataframe tbody tr th:only-of-type {\n",
       "        vertical-align: middle;\n",
       "    }\n",
       "\n",
       "    .dataframe tbody tr th {\n",
       "        vertical-align: top;\n",
       "    }\n",
       "\n",
       "    .dataframe thead th {\n",
       "        text-align: right;\n",
       "    }\n",
       "</style>\n",
       "<table border=\"1\" class=\"dataframe\">\n",
       "  <thead>\n",
       "    <tr style=\"text-align: right;\">\n",
       "      <th></th>\n",
       "      <th>escalation_id</th>\n",
       "      <th>customer_id</th>\n",
       "      <th>agent_id</th>\n",
       "      <th>issue_type</th>\n",
       "      <th>escalation_reason</th>\n",
       "      <th>escalated_department</th>\n",
       "      <th>resolution_status</th>\n",
       "    </tr>\n",
       "  </thead>\n",
       "  <tbody>\n",
       "    <tr>\n",
       "      <th>0</th>\n",
       "      <td>eb7ee6f4-641b-4a13-a9ab-46f75e9e319b</td>\n",
       "      <td>fd219147-0546-4e46-b97a-26de84690b9e</td>\n",
       "      <td>ebe8b5a4-caf3-46a0-a28f-09257af849f5</td>\n",
       "      <td>Billing Inquiry</td>\n",
       "      <td>Customer request</td>\n",
       "      <td>Specialist</td>\n",
       "      <td>Resolved</td>\n",
       "    </tr>\n",
       "    <tr>\n",
       "      <th>1</th>\n",
       "      <td>f7455727-fcc6-4a13-863c-a66649381351</td>\n",
       "      <td>d6d606cc-a60a-46fb-9ce9-98f6720384fc</td>\n",
       "      <td>1ed2f01a-7906-4b5a-935c-6e77f4629d18</td>\n",
       "      <td>Technical Support</td>\n",
       "      <td>Customer request</td>\n",
       "      <td>Management</td>\n",
       "      <td>Pending</td>\n",
       "    </tr>\n",
       "    <tr>\n",
       "      <th>2</th>\n",
       "      <td>532c5105-87c0-4abc-a331-dac3570ffd06</td>\n",
       "      <td>0073e1bc-a5a4-4348-b3b3-5d4e5e92eb75</td>\n",
       "      <td>11c275d9-0665-4d23-8db3-bab08b992b19</td>\n",
       "      <td>Technical Support</td>\n",
       "      <td>Policy issue</td>\n",
       "      <td>Support</td>\n",
       "      <td>Closed</td>\n",
       "    </tr>\n",
       "    <tr>\n",
       "      <th>3</th>\n",
       "      <td>1082529b-bed0-4287-90d6-e895e2e9d7e9</td>\n",
       "      <td>383338d7-c373-41d7-9e51-d5cad7a0a77e</td>\n",
       "      <td>4c92c7ea-2a5e-4254-bb4d-d9033d98b8ab</td>\n",
       "      <td>Technical Support</td>\n",
       "      <td>Policy issue</td>\n",
       "      <td>Specialist</td>\n",
       "      <td>Pending</td>\n",
       "    </tr>\n",
       "    <tr>\n",
       "      <th>4</th>\n",
       "      <td>3fa6be7a-5f42-452e-9cbf-0030f0667912</td>\n",
       "      <td>7ac86e03-e281-4e23-b5c3-bfd2a2017d38</td>\n",
       "      <td>e09ad210-5a3f-4eff-905e-2ad29b22febe</td>\n",
       "      <td>Complaint</td>\n",
       "      <td>Policy issue</td>\n",
       "      <td>Specialist</td>\n",
       "      <td>Pending</td>\n",
       "    </tr>\n",
       "  </tbody>\n",
       "</table>\n",
       "</div>"
      ],
      "text/plain": [
       "                          escalation_id                           customer_id  \\\n",
       "0  eb7ee6f4-641b-4a13-a9ab-46f75e9e319b  fd219147-0546-4e46-b97a-26de84690b9e   \n",
       "1  f7455727-fcc6-4a13-863c-a66649381351  d6d606cc-a60a-46fb-9ce9-98f6720384fc   \n",
       "2  532c5105-87c0-4abc-a331-dac3570ffd06  0073e1bc-a5a4-4348-b3b3-5d4e5e92eb75   \n",
       "3  1082529b-bed0-4287-90d6-e895e2e9d7e9  383338d7-c373-41d7-9e51-d5cad7a0a77e   \n",
       "4  3fa6be7a-5f42-452e-9cbf-0030f0667912  7ac86e03-e281-4e23-b5c3-bfd2a2017d38   \n",
       "\n",
       "                               agent_id         issue_type escalation_reason  \\\n",
       "0  ebe8b5a4-caf3-46a0-a28f-09257af849f5    Billing Inquiry  Customer request   \n",
       "1  1ed2f01a-7906-4b5a-935c-6e77f4629d18  Technical Support  Customer request   \n",
       "2  11c275d9-0665-4d23-8db3-bab08b992b19  Technical Support      Policy issue   \n",
       "3  4c92c7ea-2a5e-4254-bb4d-d9033d98b8ab  Technical Support      Policy issue   \n",
       "4  e09ad210-5a3f-4eff-905e-2ad29b22febe          Complaint      Policy issue   \n",
       "\n",
       "  escalated_department resolution_status  \n",
       "0           Specialist          Resolved  \n",
       "1           Management           Pending  \n",
       "2              Support            Closed  \n",
       "3           Specialist           Pending  \n",
       "4           Specialist           Pending  "
      ]
     },
     "metadata": {},
     "output_type": "display_data"
    },
    {
     "data": {
      "text/plain": [
       "(5000, 7)"
      ]
     },
     "metadata": {},
     "output_type": "display_data"
    },
    {
     "data": {
      "text/plain": [
       "escalation_id           object\n",
       "customer_id             object\n",
       "agent_id                object\n",
       "issue_type              object\n",
       "escalation_reason       object\n",
       "escalated_department    object\n",
       "resolution_status       object\n",
       "dtype: object"
      ]
     },
     "metadata": {},
     "output_type": "display_data"
    }
   ],
   "source": [
    "import pandas as pd\n",
    "\n",
    "escalations = pd.read_csv(\"../data/clean/escalations.csv\")\n",
    "\n",
    "display(escalations.head())\n",
    "display(escalations.shape)\n",
    "display(escalations.dtypes)"
   ]
  },
  {
   "cell_type": "code",
   "execution_count": 3,
   "id": "eb5eb536-746e-4153-a6fa-b6fe2c5dbbe1",
   "metadata": {},
   "outputs": [
    {
     "name": "stdout",
     "output_type": "stream",
     "text": [
      "✅ Kept 0 valid rows out of 5000 in escalations.csv\n"
     ]
    }
   ],
   "source": [
    "import pandas as pd\n",
    "\n",
    "escalations = pd.read_csv(\"../data/clean/escalations.csv\")\n",
    "customers = pd.read_csv(\"../data/clean/customers_for_import.csv\")\n",
    "agents = pd.read_csv(\"../data/clean/agents.csv\")\n",
    "\n",
    "# validate customer_ids and agent_ids\n",
    "valid_customer_ids = set(customers['customer_id'])\n",
    "valid_agent_ids = set(agents['agent_id'])\n",
    "\n",
    "# pair escalations to valid customer and agent IDs\n",
    "valid_escalations = escalations[\n",
    "    escalations['customer_id'].isin(valid_customer_ids) &\n",
    "    escalations['agent_id'].isin(valid_agent_ids)\n",
    "]\n",
    "\n",
    "print(f\"✅ Kept {len(valid_escalations)} valid rows out of {len(escalations)} in escalations.csv\")\n",
    "\n",
    "valid_escalations.to_csv(\"../data/clean/escalations_fixed.csv\", index=False)"
   ]
  },
  {
   "cell_type": "code",
   "execution_count": 6,
   "id": "194be834-bb13-4fbb-a339-f173aeb3194c",
   "metadata": {},
   "outputs": [
    {
     "name": "stdout",
     "output_type": "stream",
     "text": [
      "✅ Fixed escalations.csv — all customer_id and agent_id values now match your reference tables.\n"
     ]
    },
    {
     "data": {
      "text/html": [
       "<div>\n",
       "<style scoped>\n",
       "    .dataframe tbody tr th:only-of-type {\n",
       "        vertical-align: middle;\n",
       "    }\n",
       "\n",
       "    .dataframe tbody tr th {\n",
       "        vertical-align: top;\n",
       "    }\n",
       "\n",
       "    .dataframe thead th {\n",
       "        text-align: right;\n",
       "    }\n",
       "</style>\n",
       "<table border=\"1\" class=\"dataframe\">\n",
       "  <thead>\n",
       "    <tr style=\"text-align: right;\">\n",
       "      <th></th>\n",
       "      <th>escalation_id</th>\n",
       "      <th>customer_id</th>\n",
       "      <th>agent_id</th>\n",
       "      <th>issue_type</th>\n",
       "      <th>escalation_reason</th>\n",
       "      <th>escalated_department</th>\n",
       "      <th>resolution_status</th>\n",
       "    </tr>\n",
       "  </thead>\n",
       "  <tbody>\n",
       "    <tr>\n",
       "      <th>0</th>\n",
       "      <td>eb7ee6f4-641b-4a13-a9ab-46f75e9e319b</td>\n",
       "      <td>00b5f017-e262-4a76-ba5d-c65346d8800d</td>\n",
       "      <td>3d337902-a266-4da9-a2f2-7ee961ea9200</td>\n",
       "      <td>Billing Inquiry</td>\n",
       "      <td>Customer request</td>\n",
       "      <td>Specialist</td>\n",
       "      <td>Resolved</td>\n",
       "    </tr>\n",
       "    <tr>\n",
       "      <th>1</th>\n",
       "      <td>f7455727-fcc6-4a13-863c-a66649381351</td>\n",
       "      <td>469bae47-d30e-40f0-b19c-2f96cb37189f</td>\n",
       "      <td>1be01460-850c-4608-9a30-49158364609e</td>\n",
       "      <td>Technical Support</td>\n",
       "      <td>Customer request</td>\n",
       "      <td>Management</td>\n",
       "      <td>Pending</td>\n",
       "    </tr>\n",
       "    <tr>\n",
       "      <th>2</th>\n",
       "      <td>532c5105-87c0-4abc-a331-dac3570ffd06</td>\n",
       "      <td>4cb07d3b-83c9-48c7-be90-2251fd21cfdf</td>\n",
       "      <td>913010a2-ce37-4a94-a11c-59c186aad3d4</td>\n",
       "      <td>Technical Support</td>\n",
       "      <td>Policy issue</td>\n",
       "      <td>Support</td>\n",
       "      <td>Closed</td>\n",
       "    </tr>\n",
       "    <tr>\n",
       "      <th>3</th>\n",
       "      <td>1082529b-bed0-4287-90d6-e895e2e9d7e9</td>\n",
       "      <td>d579038e-293a-4482-b1d9-ff9bf6ec89e2</td>\n",
       "      <td>11ce60ed-7b22-420a-96a1-be0dac38c79a</td>\n",
       "      <td>Technical Support</td>\n",
       "      <td>Policy issue</td>\n",
       "      <td>Specialist</td>\n",
       "      <td>Pending</td>\n",
       "    </tr>\n",
       "    <tr>\n",
       "      <th>4</th>\n",
       "      <td>3fa6be7a-5f42-452e-9cbf-0030f0667912</td>\n",
       "      <td>9d16689e-60f1-4d40-b8c7-e804b6959112</td>\n",
       "      <td>8c308fe2-8137-477f-8e7e-815fb6564d1f</td>\n",
       "      <td>Complaint</td>\n",
       "      <td>Policy issue</td>\n",
       "      <td>Specialist</td>\n",
       "      <td>Pending</td>\n",
       "    </tr>\n",
       "  </tbody>\n",
       "</table>\n",
       "</div>"
      ],
      "text/plain": [
       "                          escalation_id                           customer_id  \\\n",
       "0  eb7ee6f4-641b-4a13-a9ab-46f75e9e319b  00b5f017-e262-4a76-ba5d-c65346d8800d   \n",
       "1  f7455727-fcc6-4a13-863c-a66649381351  469bae47-d30e-40f0-b19c-2f96cb37189f   \n",
       "2  532c5105-87c0-4abc-a331-dac3570ffd06  4cb07d3b-83c9-48c7-be90-2251fd21cfdf   \n",
       "3  1082529b-bed0-4287-90d6-e895e2e9d7e9  d579038e-293a-4482-b1d9-ff9bf6ec89e2   \n",
       "4  3fa6be7a-5f42-452e-9cbf-0030f0667912  9d16689e-60f1-4d40-b8c7-e804b6959112   \n",
       "\n",
       "                               agent_id         issue_type escalation_reason  \\\n",
       "0  3d337902-a266-4da9-a2f2-7ee961ea9200    Billing Inquiry  Customer request   \n",
       "1  1be01460-850c-4608-9a30-49158364609e  Technical Support  Customer request   \n",
       "2  913010a2-ce37-4a94-a11c-59c186aad3d4  Technical Support      Policy issue   \n",
       "3  11ce60ed-7b22-420a-96a1-be0dac38c79a  Technical Support      Policy issue   \n",
       "4  8c308fe2-8137-477f-8e7e-815fb6564d1f          Complaint      Policy issue   \n",
       "\n",
       "  escalated_department resolution_status  \n",
       "0           Specialist          Resolved  \n",
       "1           Management           Pending  \n",
       "2              Support            Closed  \n",
       "3           Specialist           Pending  \n",
       "4           Specialist           Pending  "
      ]
     },
     "metadata": {},
     "output_type": "display_data"
    }
   ],
   "source": [
    "import pandas as pd\n",
    "import numpy as np\n",
    "\n",
    "escalations = pd.read_csv(\"../data/clean/escalations.csv\")\n",
    "customers = pd.read_csv(\"../data/clean/customers_for_import.csv\")\n",
    "agents = pd.read_csv(\"../data/clean/agents.csv\")\n",
    "\n",
    "# proof valid customer_ids and agent_ids\n",
    "sampled_customer_ids = customers['customer_id'].sample(n=len(escalations), replace=True).reset_index(drop=True)\n",
    "sampled_agent_ids = agents['agent_id'].sample(n=len(escalations), replace=True).reset_index(drop=True)\n",
    "\n",
    "# replace the pairs in escalations\n",
    "escalations['customer_id'] = sampled_customer_ids\n",
    "escalations['agent_id'] = sampled_agent_ids\n",
    "\n",
    "escalations.to_csv(\"../data/clean/escalations_fixed.csv\", index=False)\n",
    "\n",
    "print(\"✅ Fixed escalations.csv — all customer_id and agent_id values now match your reference tables.\")\n",
    "escalations_2 = pd.read_csv(\"../data/clean/escalations_fixed.csv\")\n",
    "display(escalations_2.head())"
   ]
  },
  {
   "cell_type": "markdown",
   "id": "b5bc733d-5a29-48ff-89fe-ed30704e72cf",
   "metadata": {},
   "source": [
    "# csat"
   ]
  },
  {
   "cell_type": "code",
   "execution_count": 13,
   "id": "f1e69083-b620-49fb-8d57-157179547f0d",
   "metadata": {},
   "outputs": [
    {
     "data": {
      "text/html": [
       "<div>\n",
       "<style scoped>\n",
       "    .dataframe tbody tr th:only-of-type {\n",
       "        vertical-align: middle;\n",
       "    }\n",
       "\n",
       "    .dataframe tbody tr th {\n",
       "        vertical-align: top;\n",
       "    }\n",
       "\n",
       "    .dataframe thead th {\n",
       "        text-align: right;\n",
       "    }\n",
       "</style>\n",
       "<table border=\"1\" class=\"dataframe\">\n",
       "  <thead>\n",
       "    <tr style=\"text-align: right;\">\n",
       "      <th></th>\n",
       "      <th>survey_id</th>\n",
       "      <th>customer_id</th>\n",
       "      <th>agent_id</th>\n",
       "      <th>survey_date</th>\n",
       "      <th>rating</th>\n",
       "      <th>comments</th>\n",
       "    </tr>\n",
       "  </thead>\n",
       "  <tbody>\n",
       "    <tr>\n",
       "      <th>0</th>\n",
       "      <td>f7534db5-4436-4732-ba2b-f484533e13dd</td>\n",
       "      <td>acb6e64b-b66f-4131-9f43-3c2ee7452132</td>\n",
       "      <td>afcbaef0-7f53-46c4-8527-8d76edc7f08c</td>\n",
       "      <td>2025-06-28</td>\n",
       "      <td>5</td>\n",
       "      <td>Glass only deep song growth character child. F...</td>\n",
       "    </tr>\n",
       "    <tr>\n",
       "      <th>1</th>\n",
       "      <td>09ab58c7-35a2-427f-98f5-cf9d6a3c9604</td>\n",
       "      <td>d09f1519-055b-4522-9c72-2344df538ca4</td>\n",
       "      <td>d8a94d44-48fc-45ff-b9b6-55f6faa22bc4</td>\n",
       "      <td>2025-04-01</td>\n",
       "      <td>4</td>\n",
       "      <td>Themselves performance soldier middle about gu...</td>\n",
       "    </tr>\n",
       "    <tr>\n",
       "      <th>2</th>\n",
       "      <td>e8674db2-76a0-41f3-be2d-cfc79c80d78e</td>\n",
       "      <td>92e5234d-1d5c-4052-adbb-69c4bc319511</td>\n",
       "      <td>9856a5e1-5c63-4f32-9e7c-6027c4832b43</td>\n",
       "      <td>2025-02-22</td>\n",
       "      <td>1</td>\n",
       "      <td>Statement say strong price. Pass billion at bu...</td>\n",
       "    </tr>\n",
       "    <tr>\n",
       "      <th>3</th>\n",
       "      <td>0034d910-2c68-4e46-a3a5-43cc2e5b4ce0</td>\n",
       "      <td>f56d08de-80e7-4dc5-bb3a-32c1149a2c10</td>\n",
       "      <td>2e40c3da-5387-4631-b279-e4c21135bf49</td>\n",
       "      <td>2025-06-15</td>\n",
       "      <td>4</td>\n",
       "      <td>Why reason debate theory college nation. Weigh...</td>\n",
       "    </tr>\n",
       "    <tr>\n",
       "      <th>4</th>\n",
       "      <td>eb231962-c292-4eb8-a73b-e8e9433744ab</td>\n",
       "      <td>e5debafb-ac78-4dc9-b49e-1590934173e6</td>\n",
       "      <td>067d6802-bbc2-46ba-aa62-bf9fc1b7e1b7</td>\n",
       "      <td>2025-07-09</td>\n",
       "      <td>4</td>\n",
       "      <td>Must within through. Successful capital centra...</td>\n",
       "    </tr>\n",
       "  </tbody>\n",
       "</table>\n",
       "</div>"
      ],
      "text/plain": [
       "                              survey_id                           customer_id  \\\n",
       "0  f7534db5-4436-4732-ba2b-f484533e13dd  acb6e64b-b66f-4131-9f43-3c2ee7452132   \n",
       "1  09ab58c7-35a2-427f-98f5-cf9d6a3c9604  d09f1519-055b-4522-9c72-2344df538ca4   \n",
       "2  e8674db2-76a0-41f3-be2d-cfc79c80d78e  92e5234d-1d5c-4052-adbb-69c4bc319511   \n",
       "3  0034d910-2c68-4e46-a3a5-43cc2e5b4ce0  f56d08de-80e7-4dc5-bb3a-32c1149a2c10   \n",
       "4  eb231962-c292-4eb8-a73b-e8e9433744ab  e5debafb-ac78-4dc9-b49e-1590934173e6   \n",
       "\n",
       "                               agent_id survey_date  rating  \\\n",
       "0  afcbaef0-7f53-46c4-8527-8d76edc7f08c  2025-06-28       5   \n",
       "1  d8a94d44-48fc-45ff-b9b6-55f6faa22bc4  2025-04-01       4   \n",
       "2  9856a5e1-5c63-4f32-9e7c-6027c4832b43  2025-02-22       1   \n",
       "3  2e40c3da-5387-4631-b279-e4c21135bf49  2025-06-15       4   \n",
       "4  067d6802-bbc2-46ba-aa62-bf9fc1b7e1b7  2025-07-09       4   \n",
       "\n",
       "                                            comments  \n",
       "0  Glass only deep song growth character child. F...  \n",
       "1  Themselves performance soldier middle about gu...  \n",
       "2  Statement say strong price. Pass billion at bu...  \n",
       "3  Why reason debate theory college nation. Weigh...  \n",
       "4  Must within through. Successful capital centra...  "
      ]
     },
     "metadata": {},
     "output_type": "display_data"
    },
    {
     "data": {
      "text/plain": [
       "(10000, 6)"
      ]
     },
     "metadata": {},
     "output_type": "display_data"
    },
    {
     "data": {
      "text/plain": [
       "survey_id      object\n",
       "customer_id    object\n",
       "agent_id       object\n",
       "survey_date    object\n",
       "rating          int64\n",
       "comments       object\n",
       "dtype: object"
      ]
     },
     "metadata": {},
     "output_type": "display_data"
    }
   ],
   "source": [
    "import pandas as pd\n",
    "\n",
    "csat = pd.read_csv(\"../data/clean/csat.csv\")\n",
    "\n",
    "display(csat.head())\n",
    "display(csat.shape)\n",
    "display(csat.dtypes)"
   ]
  },
  {
   "cell_type": "code",
   "execution_count": 7,
   "id": "d238a54b-e0a1-49fc-8bc3-7ae20d0e2afd",
   "metadata": {},
   "outputs": [
    {
     "name": "stdout",
     "output_type": "stream",
     "text": [
      "✅ Matched customer_id in csat with customers: 0\n",
      "✅ Matched agent_id in csat with agents: 0\n"
     ]
    }
   ],
   "source": [
    "import pandas as pd\n",
    "\n",
    "csat = pd.read_csv(\"../data/clean/csat.csv\")\n",
    "customers = pd.read_csv(\"../data/clean/customers_for_import.csv\")\n",
    "agents = pd.read_csv(\"../data/clean/agents.csv\")\n",
    "\n",
    "# proof matches in customer_id\n",
    "matched_customers = csat[csat['customer_id'].isin(customers['customer_id'])]\n",
    "\n",
    "# proof for matches in agent_id\n",
    "matched_agents = csat[csat['agent_id'].isin(agents['agent_id'])]\n",
    "\n",
    "print(f\"✅ Matched customer_id in csat with customers: {len(matched_customers)}\")\n",
    "print(f\"✅ Matched agent_id in csat with agents: {len(matched_agents)}\")\n",
    "\n",
    "csat.to_csv(\"../data/clean/csat_fixed.csv\", index=False)"
   ]
  },
  {
   "cell_type": "code",
   "execution_count": 8,
   "id": "8b0efcf8-3210-4c97-bffc-61cc7d64cf76",
   "metadata": {},
   "outputs": [
    {
     "name": "stdout",
     "output_type": "stream",
     "text": [
      "✅ Fixed csat.csv — all customer_id and agent_id values now match your reference tables.\n"
     ]
    }
   ],
   "source": [
    "import pandas as pd\n",
    "\n",
    "csat = pd.read_csv(\"../data/clean/csat.csv\")\n",
    "customers = pd.read_csv(\"../data/clean/customers_for_import.csv\")\n",
    "agents = pd.read_csv(\"../data/clean/agents.csv\")\n",
    "\n",
    "# proof valid customer_ids and agent_ids\n",
    "sampled_customer_ids = customers['customer_id'].sample(n=len(csat), replace=True).reset_index(drop=True)\n",
    "sampled_agent_ids = agents['agent_id'].sample(n=len(csat), replace=True).reset_index(drop=True)\n",
    "\n",
    "# change customer_id and agent_id in csat\n",
    "csat['customer_id'] = sampled_customer_ids\n",
    "csat['agent_id'] = sampled_agent_ids\n",
    "\n",
    "csat.to_csv(\"../data/clean/csat_fixed.csv\", index=False)\n",
    "print(\"✅ Fixed csat.csv — all customer_id and agent_id values now match your reference tables.\")"
   ]
  },
  {
   "cell_type": "code",
   "execution_count": null,
   "id": "15840a5e-93cb-4de2-9895-7c4ce943031c",
   "metadata": {},
   "outputs": [],
   "source": []
  }
 ],
 "metadata": {
  "kernelspec": {
   "display_name": "venv",
   "language": "python",
   "name": "venv"
  },
  "language_info": {
   "codemirror_mode": {
    "name": "ipython",
    "version": 3
   },
   "file_extension": ".py",
   "mimetype": "text/x-python",
   "name": "python",
   "nbconvert_exporter": "python",
   "pygments_lexer": "ipython3",
   "version": "3.12.7"
  }
 },
 "nbformat": 4,
 "nbformat_minor": 5
}
